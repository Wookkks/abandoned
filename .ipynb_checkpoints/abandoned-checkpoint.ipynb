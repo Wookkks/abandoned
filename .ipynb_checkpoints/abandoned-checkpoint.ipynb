{
 "cells": [
  {
   "cell_type": "code",
   "execution_count": 2,
   "id": "190433db",
   "metadata": {},
   "outputs": [],
   "source": [
    "import pandas as pd\n",
    "import numpy as np\n",
    "import matplotlib.pyplot as plt\n",
    "import seaborn as sns\n",
    "import re"
   ]
  },
  {
   "cell_type": "code",
   "execution_count": 3,
   "id": "c21d7449",
   "metadata": {},
   "outputs": [],
   "source": [
    "## 한글 설정\n",
    "plt.rc('font', family='D2coding')"
   ]
  },
  {
   "cell_type": "code",
   "execution_count": 33,
   "id": "b5fc677c",
   "metadata": {
    "scrolled": false
   },
   "outputs": [
    {
     "data": {
      "text/html": [
       "<div>\n",
       "<style scoped>\n",
       "    .dataframe tbody tr th:only-of-type {\n",
       "        vertical-align: middle;\n",
       "    }\n",
       "\n",
       "    .dataframe tbody tr th {\n",
       "        vertical-align: top;\n",
       "    }\n",
       "\n",
       "    .dataframe thead th {\n",
       "        text-align: right;\n",
       "    }\n",
       "</style>\n",
       "<table border=\"1\" class=\"dataframe\">\n",
       "  <thead>\n",
       "    <tr style=\"text-align: right;\">\n",
       "      <th></th>\n",
       "      <th>시군명</th>\n",
       "      <th>접수일자</th>\n",
       "      <th>발견장소</th>\n",
       "      <th>상태</th>\n",
       "      <th>공고고유번호</th>\n",
       "      <th>공고시작일자</th>\n",
       "      <th>공고종료일자</th>\n",
       "      <th>품종</th>\n",
       "      <th>색상</th>\n",
       "      <th>나이</th>\n",
       "      <th>...</th>\n",
       "      <th>보호소전화번호</th>\n",
       "      <th>보호소도로명주소</th>\n",
       "      <th>보호소지번주소</th>\n",
       "      <th>보호소우편번호</th>\n",
       "      <th>관할기관</th>\n",
       "      <th>특이사항</th>\n",
       "      <th>이미지경로</th>\n",
       "      <th>썸네일이미지경로</th>\n",
       "      <th>WGS84위도</th>\n",
       "      <th>WGS84경도</th>\n",
       "    </tr>\n",
       "  </thead>\n",
       "  <tbody>\n",
       "    <tr>\n",
       "      <th>0</th>\n",
       "      <td>오산시</td>\n",
       "      <td>20230514</td>\n",
       "      <td>성호대로141</td>\n",
       "      <td>보호중</td>\n",
       "      <td>경기-오산-2023-00116</td>\n",
       "      <td>20230514</td>\n",
       "      <td>20230524</td>\n",
       "      <td>[고양이] 한국 고양이</td>\n",
       "      <td>치즈색</td>\n",
       "      <td>2023(60일미만)(년생)</td>\n",
       "      <td>...</td>\n",
       "      <td>031-372-9325</td>\n",
       "      <td>경기도 오산시 성호대로 36</td>\n",
       "      <td>경기도 오산시 오산동 609-55번지</td>\n",
       "      <td>18130</td>\n",
       "      <td>경기도 오산시</td>\n",
       "      <td>NaN</td>\n",
       "      <td>http://www.animal.go.kr/files/shelter/2023/05/...</td>\n",
       "      <td>http://www.animal.go.kr/files/shelter/2023/05/...</td>\n",
       "      <td>37.149089</td>\n",
       "      <td>127.065203</td>\n",
       "    </tr>\n",
       "  </tbody>\n",
       "</table>\n",
       "<p>1 rows × 25 columns</p>\n",
       "</div>"
      ],
      "text/plain": [
       "   시군명      접수일자     발견장소   상태            공고고유번호    공고시작일자    공고종료일자   \n",
       "0  오산시  20230514  성호대로141  보호중  경기-오산-2023-00116  20230514  20230524  \\\n",
       "\n",
       "             품종   색상               나이  ...       보호소전화번호         보호소도로명주소   \n",
       "0  [고양이] 한국 고양이  치즈색  2023(60일미만)(년생)  ...  031-372-9325  경기도 오산시 성호대로 36  \\\n",
       "\n",
       "                보호소지번주소 보호소우편번호     관할기관 특이사항   \n",
       "0  경기도 오산시 오산동 609-55번지   18130  경기도 오산시  NaN  \\\n",
       "\n",
       "                                               이미지경로   \n",
       "0  http://www.animal.go.kr/files/shelter/2023/05/...  \\\n",
       "\n",
       "                                            썸네일이미지경로    WGS84위도     WGS84경도  \n",
       "0  http://www.animal.go.kr/files/shelter/2023/05/...  37.149089  127.065203  \n",
       "\n",
       "[1 rows x 25 columns]"
      ]
     },
     "execution_count": 33,
     "metadata": {},
     "output_type": "execute_result"
    }
   ],
   "source": [
    "## csv 파일 불러오기\n",
    "abandoned = pd.read_csv('유기동물보호현황.csv', encoding='cp949')\n",
    "abandoned[:1]"
   ]
  },
  {
   "cell_type": "code",
   "execution_count": 34,
   "id": "75c980bf",
   "metadata": {},
   "outputs": [],
   "source": [
    "## 컬럼 정리\n",
    "abandoned.drop(columns=['발견장소', '공고고유번호', '공고시작일자', '공고종료일자'\n",
    "                       , '특징', '보호소명', '보호소전화번호', '보호소도로명주소', '보호소지번주소', '보호소우편번호'\n",
    "                       , '이미지경로', '썸네일이미지경로', 'WGS84위도', 'WGS84경도', '특이사항', '관할기관'], inplace=True)"
   ]
  },
  {
   "cell_type": "code",
   "execution_count": 280,
   "id": "5d892292",
   "metadata": {},
   "outputs": [],
   "source": [
    "## 접수일자 컬럼 dtype 변경 : int -> str -> datetime\n",
    "abandoned.접수일자 = abandoned.접수일자.astype('str')\n",
    "abandoned.접수일자 = pd.to_datetime(abandoned['접수일자'])\n",
    "\n",
    "## datetime format 변경\n",
    "abandoned.접수일자 = abandoned.접수일자.dt.strftime('%Y-%m')\n",
    "\n",
    "## 2022년 11월과 2023년 5월 데이터 삭제 -> 맞을지..."
   ]
  },
  {
   "cell_type": "code",
   "execution_count": 281,
   "id": "584cf7bf",
   "metadata": {},
   "outputs": [],
   "source": [
    "## 잘못 표시된 값 수정 : U -> Q\n",
    "abandoned.loc[abandoned.중성화여부 == 'U', '중성화여부'] = 'Q'\n",
    "abandoned.체중 = abandoned.체중.str.replace('(Kg)', '').str.replace(',', '.').str.replace('..', '.').str.replace(\"\\'\", \"\")\n",
    "# abandoned[abandoned['체중'] == '.5.9']\n",
    "# abandoned[abandoned['체중'] == '6.3.']\n",
    "abandoned.loc[6735, '체중'] = '5.9'\n",
    "abandoned.loc[7146, '체중'] = '6.3'"
   ]
  },
  {
   "cell_type": "code",
   "execution_count": 282,
   "id": "d9873953",
   "metadata": {},
   "outputs": [],
   "source": [
    "## 체중 컬럼 dtype 변경 : object -> float\n",
    "abandoned.체중 = abandoned.체중.apply(float)"
   ]
  },
  {
   "cell_type": "code",
   "execution_count": 283,
   "id": "6e25a547",
   "metadata": {},
   "outputs": [],
   "source": [
    "## 작년기준 60일 미만 유기동물들의 나이는 2022년생으로 수정\n",
    "abandoned.loc[abandoned.나이 == '2022(60일미만)(년생)', '나이'] = '2022(년생)'\n",
    "\n",
    "## 나이컬럼 수정 : n(년생) -> (2023 - n + 1)살, 60일 미만 -> 0살\n",
    "abandoned.나이 = abandoned.나이.str.replace('(년생)', '')\n",
    "abandoned.loc[abandoned.나이 == '2023(60일미만)', '나이'] = '2024'\n",
    "abandoned.나이 = abandoned.나이.astype('int16')\n",
    "abandoned.나이 = 2023 - abandoned.나이 + 1"
   ]
  },
  {
   "cell_type": "code",
   "execution_count": 19,
   "id": "ca1227a8",
   "metadata": {},
   "outputs": [],
   "source": [
    "## 컬럼 추가 : 품종상세\n",
    "abandoned['품종상세'] = abandoned.품종\n",
    "\n",
    "abandoned.loc[abandoned.품종상세.str.contains(r'\\[고양이\\]'), '품종상세'] = '고양이'\n",
    "abandoned.loc[abandoned.품종상세.str.contains(r'\\[개\\]'), '품종상세'] = '개'\n",
    "abandoned.loc[abandoned.품종상세.str.contains(r'\\[기타축종\\]'), '품종상세'] = '기타축종'"
   ]
  },
  {
   "cell_type": "code",
   "execution_count": 23,
   "id": "306bffe2",
   "metadata": {},
   "outputs": [],
   "source": [
    "abandoned.loc[:, '품종상세'] = abandoned.품종상세.str.replace('[고양이]', '').str.replace('[개]', '').str.replace('[기타축종]', '')"
   ]
  },
  {
   "cell_type": "code",
   "execution_count": 285,
   "id": "e679bd00",
   "metadata": {},
   "outputs": [],
   "source": [
    "## 컬럼 이름 변경\n",
    "abandoned.rename(columns={'품종': '품종상세', '품종상세': '품종'}, inplace=True)"
   ]
  },
  {
   "cell_type": "code",
   "execution_count": 51,
   "id": "6c12cfe7",
   "metadata": {},
   "outputs": [],
   "source": [
    "## 컬럼순서 조정\n",
    "abandoned = abandoned[['시군명', '접수일자', '상태', '품종', '품종상세', '나이', '체중', '성별', '중성화여부']]"
   ]
  },
  {
   "cell_type": "code",
   "execution_count": 32,
   "id": "9ef61627",
   "metadata": {},
   "outputs": [],
   "source": [
    "## csv 파일 저장\n",
    "abandoned.to_csv('abandoned.csv', index=False, encoding='UTF-8')"
   ]
  },
  {
   "cell_type": "code",
   "execution_count": 33,
   "id": "224b209f",
   "metadata": {},
   "outputs": [],
   "source": [
    "abandoned = pd.read_csv('abandoned.csv')"
   ]
  },
  {
   "cell_type": "markdown",
   "id": "3b8c7255",
   "metadata": {},
   "source": [
    "성별 Q = 알수없음 중성화여부 Q = 알수없음"
   ]
  },
  {
   "cell_type": "code",
   "execution_count": 34,
   "id": "362c1db3",
   "metadata": {
    "scrolled": true
   },
   "outputs": [
    {
     "data": {
      "text/html": [
       "<div>\n",
       "<style scoped>\n",
       "    .dataframe tbody tr th:only-of-type {\n",
       "        vertical-align: middle;\n",
       "    }\n",
       "\n",
       "    .dataframe tbody tr th {\n",
       "        vertical-align: top;\n",
       "    }\n",
       "\n",
       "    .dataframe thead th {\n",
       "        text-align: right;\n",
       "    }\n",
       "</style>\n",
       "<table border=\"1\" class=\"dataframe\">\n",
       "  <thead>\n",
       "    <tr style=\"text-align: right;\">\n",
       "      <th></th>\n",
       "      <th>시군명</th>\n",
       "      <th>접수일자</th>\n",
       "      <th>상태</th>\n",
       "      <th>품종</th>\n",
       "      <th>품종상세</th>\n",
       "      <th>나이</th>\n",
       "      <th>체중</th>\n",
       "      <th>성별</th>\n",
       "      <th>중성화여부</th>\n",
       "    </tr>\n",
       "  </thead>\n",
       "  <tbody>\n",
       "    <tr>\n",
       "      <th>0</th>\n",
       "      <td>오산시</td>\n",
       "      <td>2023-05</td>\n",
       "      <td>보호중</td>\n",
       "      <td>고양이</td>\n",
       "      <td>한국 고양이</td>\n",
       "      <td>0</td>\n",
       "      <td>0.11</td>\n",
       "      <td>Q</td>\n",
       "      <td>N</td>\n",
       "    </tr>\n",
       "    <tr>\n",
       "      <th>1</th>\n",
       "      <td>오산시</td>\n",
       "      <td>2023-05</td>\n",
       "      <td>보호중</td>\n",
       "      <td>고양이</td>\n",
       "      <td>한국 고양이</td>\n",
       "      <td>0</td>\n",
       "      <td>0.10</td>\n",
       "      <td>Q</td>\n",
       "      <td>N</td>\n",
       "    </tr>\n",
       "    <tr>\n",
       "      <th>2</th>\n",
       "      <td>남양주시</td>\n",
       "      <td>2023-05</td>\n",
       "      <td>보호중</td>\n",
       "      <td>개</td>\n",
       "      <td>셰퍼드</td>\n",
       "      <td>3</td>\n",
       "      <td>24.00</td>\n",
       "      <td>F</td>\n",
       "      <td>N</td>\n",
       "    </tr>\n",
       "    <tr>\n",
       "      <th>3</th>\n",
       "      <td>남양주시</td>\n",
       "      <td>2023-05</td>\n",
       "      <td>보호중</td>\n",
       "      <td>개</td>\n",
       "      <td>셰퍼드</td>\n",
       "      <td>3</td>\n",
       "      <td>27.00</td>\n",
       "      <td>M</td>\n",
       "      <td>N</td>\n",
       "    </tr>\n",
       "    <tr>\n",
       "      <th>4</th>\n",
       "      <td>성남시</td>\n",
       "      <td>2023-05</td>\n",
       "      <td>보호중</td>\n",
       "      <td>고양이</td>\n",
       "      <td>터키시 앙고라</td>\n",
       "      <td>1</td>\n",
       "      <td>1.10</td>\n",
       "      <td>F</td>\n",
       "      <td>Q</td>\n",
       "    </tr>\n",
       "  </tbody>\n",
       "</table>\n",
       "</div>"
      ],
      "text/plain": [
       "    시군명     접수일자   상태   품종     품종상세  나이     체중 성별 중성화여부\n",
       "0   오산시  2023-05  보호중  고양이   한국 고양이   0   0.11  Q     N\n",
       "1   오산시  2023-05  보호중  고양이   한국 고양이   0   0.10  Q     N\n",
       "2  남양주시  2023-05  보호중    개      셰퍼드   3  24.00  F     N\n",
       "3  남양주시  2023-05  보호중    개      셰퍼드   3  27.00  M     N\n",
       "4   성남시  2023-05  보호중  고양이  터키시 앙고라   1   1.10  F     Q"
      ]
     },
     "execution_count": 34,
     "metadata": {},
     "output_type": "execute_result"
    }
   ],
   "source": [
    "abandoned[:5]"
   ]
  },
  {
   "cell_type": "code",
   "execution_count": 4,
   "id": "891461db",
   "metadata": {
    "scrolled": true
   },
   "outputs": [
    {
     "name": "stdout",
     "output_type": "stream",
     "text": [
      "<class 'pandas.core.frame.DataFrame'>\n",
      "RangeIndex: 9127 entries, 0 to 9126\n",
      "Data columns (total 9 columns):\n",
      " #   Column  Non-Null Count  Dtype  \n",
      "---  ------  --------------  -----  \n",
      " 0   시군명     9127 non-null   object \n",
      " 1   접수일자    9127 non-null   object \n",
      " 2   상태      9127 non-null   object \n",
      " 3   품종상세    9127 non-null   object \n",
      " 4   품종      9127 non-null   object \n",
      " 5   나이      9127 non-null   int64  \n",
      " 6   체중      9127 non-null   float64\n",
      " 7   성별      9127 non-null   object \n",
      " 8   중성화여부   9127 non-null   object \n",
      "dtypes: float64(1), int64(1), object(7)\n",
      "memory usage: 641.9+ KB\n"
     ]
    }
   ],
   "source": [
    "abandoned.info()"
   ]
  },
  {
   "cell_type": "code",
   "execution_count": 46,
   "id": "5469ca81",
   "metadata": {},
   "outputs": [
    {
     "data": {
      "text/html": [
       "<div>\n",
       "<style scoped>\n",
       "    .dataframe tbody tr th:only-of-type {\n",
       "        vertical-align: middle;\n",
       "    }\n",
       "\n",
       "    .dataframe tbody tr th {\n",
       "        vertical-align: top;\n",
       "    }\n",
       "\n",
       "    .dataframe thead th {\n",
       "        text-align: right;\n",
       "    }\n",
       "</style>\n",
       "<table border=\"1\" class=\"dataframe\">\n",
       "  <thead>\n",
       "    <tr style=\"text-align: right;\">\n",
       "      <th></th>\n",
       "      <th>시군명</th>\n",
       "      <th>접수일자</th>\n",
       "      <th>상태</th>\n",
       "      <th>품종</th>\n",
       "      <th>나이</th>\n",
       "      <th>체중</th>\n",
       "      <th>성별</th>\n",
       "      <th>중성화여부</th>\n",
       "    </tr>\n",
       "  </thead>\n",
       "  <tbody>\n",
       "    <tr>\n",
       "      <th>0</th>\n",
       "      <td>오산시</td>\n",
       "      <td>2023-05</td>\n",
       "      <td>보호중</td>\n",
       "      <td>[고양이]한국고양이</td>\n",
       "      <td>0</td>\n",
       "      <td>0.11</td>\n",
       "      <td>Q</td>\n",
       "      <td>N</td>\n",
       "    </tr>\n",
       "    <tr>\n",
       "      <th>1</th>\n",
       "      <td>오산시</td>\n",
       "      <td>2023-05</td>\n",
       "      <td>보호중</td>\n",
       "      <td>[고양이]한국고양이</td>\n",
       "      <td>0</td>\n",
       "      <td>0.10</td>\n",
       "      <td>Q</td>\n",
       "      <td>N</td>\n",
       "    </tr>\n",
       "  </tbody>\n",
       "</table>\n",
       "</div>"
      ],
      "text/plain": [
       "   시군명     접수일자   상태          품종  나이    체중 성별 중성화여부\n",
       "0  오산시  2023-05  보호중  [고양이]한국고양이   0  0.11  Q     N\n",
       "1  오산시  2023-05  보호중  [고양이]한국고양이   0  0.10  Q     N"
      ]
     },
     "execution_count": 46,
     "metadata": {},
     "output_type": "execute_result"
    }
   ],
   "source": [
    "## 품종 분류 : 고양이\n",
    "abandoned_cat = abandoned[abandoned.품종.str.contains(r'\\[고양이\\]')]\n",
    "abandoned_cat[:2]"
   ]
  },
  {
   "cell_type": "code",
   "execution_count": 47,
   "id": "acce5786",
   "metadata": {
    "scrolled": true
   },
   "outputs": [
    {
     "data": {
      "text/html": [
       "<div>\n",
       "<style scoped>\n",
       "    .dataframe tbody tr th:only-of-type {\n",
       "        vertical-align: middle;\n",
       "    }\n",
       "\n",
       "    .dataframe tbody tr th {\n",
       "        vertical-align: top;\n",
       "    }\n",
       "\n",
       "    .dataframe thead th {\n",
       "        text-align: right;\n",
       "    }\n",
       "</style>\n",
       "<table border=\"1\" class=\"dataframe\">\n",
       "  <thead>\n",
       "    <tr style=\"text-align: right;\">\n",
       "      <th></th>\n",
       "      <th>시군명</th>\n",
       "      <th>접수일자</th>\n",
       "      <th>상태</th>\n",
       "      <th>품종</th>\n",
       "      <th>나이</th>\n",
       "      <th>체중</th>\n",
       "      <th>성별</th>\n",
       "      <th>중성화여부</th>\n",
       "    </tr>\n",
       "  </thead>\n",
       "  <tbody>\n",
       "    <tr>\n",
       "      <th>2</th>\n",
       "      <td>남양주시</td>\n",
       "      <td>2023-05</td>\n",
       "      <td>보호중</td>\n",
       "      <td>[개]셰퍼드</td>\n",
       "      <td>3</td>\n",
       "      <td>24.0</td>\n",
       "      <td>F</td>\n",
       "      <td>N</td>\n",
       "    </tr>\n",
       "    <tr>\n",
       "      <th>3</th>\n",
       "      <td>남양주시</td>\n",
       "      <td>2023-05</td>\n",
       "      <td>보호중</td>\n",
       "      <td>[개]셰퍼드</td>\n",
       "      <td>3</td>\n",
       "      <td>27.0</td>\n",
       "      <td>M</td>\n",
       "      <td>N</td>\n",
       "    </tr>\n",
       "  </tbody>\n",
       "</table>\n",
       "</div>"
      ],
      "text/plain": [
       "    시군명     접수일자   상태      품종  나이    체중 성별 중성화여부\n",
       "2  남양주시  2023-05  보호중  [개]셰퍼드   3  24.0  F     N\n",
       "3  남양주시  2023-05  보호중  [개]셰퍼드   3  27.0  M     N"
      ]
     },
     "execution_count": 47,
     "metadata": {},
     "output_type": "execute_result"
    }
   ],
   "source": [
    "## 품종 분류 : 개\n",
    "abandoned_dog = abandoned[abandoned.품종.str.contains(r'\\[개\\]')]\n",
    "abandoned_dog[:2]"
   ]
  },
  {
   "cell_type": "code",
   "execution_count": 48,
   "id": "640db9d9",
   "metadata": {
    "scrolled": true
   },
   "outputs": [
    {
     "data": {
      "text/html": [
       "<div>\n",
       "<style scoped>\n",
       "    .dataframe tbody tr th:only-of-type {\n",
       "        vertical-align: middle;\n",
       "    }\n",
       "\n",
       "    .dataframe tbody tr th {\n",
       "        vertical-align: top;\n",
       "    }\n",
       "\n",
       "    .dataframe thead th {\n",
       "        text-align: right;\n",
       "    }\n",
       "</style>\n",
       "<table border=\"1\" class=\"dataframe\">\n",
       "  <thead>\n",
       "    <tr style=\"text-align: right;\">\n",
       "      <th></th>\n",
       "      <th>시군명</th>\n",
       "      <th>접수일자</th>\n",
       "      <th>상태</th>\n",
       "      <th>품종</th>\n",
       "      <th>나이</th>\n",
       "      <th>체중</th>\n",
       "      <th>성별</th>\n",
       "      <th>중성화여부</th>\n",
       "    </tr>\n",
       "  </thead>\n",
       "  <tbody>\n",
       "    <tr>\n",
       "      <th>81</th>\n",
       "      <td>성남시</td>\n",
       "      <td>2023-05</td>\n",
       "      <td>종료(자연사)</td>\n",
       "      <td>[기타축종]햄스터</td>\n",
       "      <td>2</td>\n",
       "      <td>0.01</td>\n",
       "      <td>Q</td>\n",
       "      <td>N</td>\n",
       "    </tr>\n",
       "    <tr>\n",
       "      <th>220</th>\n",
       "      <td>고양시</td>\n",
       "      <td>2023-05</td>\n",
       "      <td>보호중</td>\n",
       "      <td>[기타축종]앵무새</td>\n",
       "      <td>2</td>\n",
       "      <td>0.03</td>\n",
       "      <td>Q</td>\n",
       "      <td>Q</td>\n",
       "    </tr>\n",
       "  </tbody>\n",
       "</table>\n",
       "</div>"
      ],
      "text/plain": [
       "     시군명     접수일자       상태         품종  나이    체중 성별 중성화여부\n",
       "81   성남시  2023-05  종료(자연사)  [기타축종]햄스터   2  0.01  Q     N\n",
       "220  고양시  2023-05      보호중  [기타축종]앵무새   2  0.03  Q     Q"
      ]
     },
     "execution_count": 48,
     "metadata": {},
     "output_type": "execute_result"
    }
   ],
   "source": [
    "## 품종 분류 : 기타축종\n",
    "abandoned_other = abandoned[abandoned.품종.str.contains(r'\\[기타축종\\]')]\n",
    "abandoned_other[:2]"
   ]
  },
  {
   "cell_type": "code",
   "execution_count": 71,
   "id": "73896d0c",
   "metadata": {
    "scrolled": true
   },
   "outputs": [
    {
     "data": {
      "text/html": [
       "<div>\n",
       "<style scoped>\n",
       "    .dataframe tbody tr th:only-of-type {\n",
       "        vertical-align: middle;\n",
       "    }\n",
       "\n",
       "    .dataframe tbody tr th {\n",
       "        vertical-align: top;\n",
       "    }\n",
       "\n",
       "    .dataframe thead th {\n",
       "        text-align: right;\n",
       "    }\n",
       "</style>\n",
       "<table border=\"1\" class=\"dataframe\">\n",
       "  <thead>\n",
       "    <tr style=\"text-align: right;\">\n",
       "      <th></th>\n",
       "      <th>시군명</th>\n",
       "      <th>접수일자</th>\n",
       "      <th>상태</th>\n",
       "      <th>품종상세</th>\n",
       "      <th>품종</th>\n",
       "      <th>나이</th>\n",
       "      <th>체중</th>\n",
       "      <th>성별</th>\n",
       "      <th>중성화여부</th>\n",
       "    </tr>\n",
       "  </thead>\n",
       "  <tbody>\n",
       "    <tr>\n",
       "      <th>0</th>\n",
       "      <td>오산시</td>\n",
       "      <td>2023-05</td>\n",
       "      <td>보호중</td>\n",
       "      <td>한국 고양이</td>\n",
       "      <td>고양이</td>\n",
       "      <td>0</td>\n",
       "      <td>0.11</td>\n",
       "      <td>Q</td>\n",
       "      <td>N</td>\n",
       "    </tr>\n",
       "    <tr>\n",
       "      <th>1</th>\n",
       "      <td>오산시</td>\n",
       "      <td>2023-05</td>\n",
       "      <td>보호중</td>\n",
       "      <td>한국 고양이</td>\n",
       "      <td>고양이</td>\n",
       "      <td>0</td>\n",
       "      <td>0.10</td>\n",
       "      <td>Q</td>\n",
       "      <td>N</td>\n",
       "    </tr>\n",
       "    <tr>\n",
       "      <th>2</th>\n",
       "      <td>남양주시</td>\n",
       "      <td>2023-05</td>\n",
       "      <td>보호중</td>\n",
       "      <td>셰퍼드</td>\n",
       "      <td>개</td>\n",
       "      <td>3</td>\n",
       "      <td>24.00</td>\n",
       "      <td>F</td>\n",
       "      <td>N</td>\n",
       "    </tr>\n",
       "    <tr>\n",
       "      <th>3</th>\n",
       "      <td>남양주시</td>\n",
       "      <td>2023-05</td>\n",
       "      <td>보호중</td>\n",
       "      <td>셰퍼드</td>\n",
       "      <td>개</td>\n",
       "      <td>3</td>\n",
       "      <td>27.00</td>\n",
       "      <td>M</td>\n",
       "      <td>N</td>\n",
       "    </tr>\n",
       "    <tr>\n",
       "      <th>4</th>\n",
       "      <td>성남시</td>\n",
       "      <td>2023-05</td>\n",
       "      <td>보호중</td>\n",
       "      <td>터키시 앙고라</td>\n",
       "      <td>고양이</td>\n",
       "      <td>1</td>\n",
       "      <td>1.10</td>\n",
       "      <td>F</td>\n",
       "      <td>Q</td>\n",
       "    </tr>\n",
       "  </tbody>\n",
       "</table>\n",
       "</div>"
      ],
      "text/plain": [
       "    시군명     접수일자   상태      품종상세   품종  나이     체중 성별 중성화여부\n",
       "0   오산시  2023-05  보호중    한국 고양이  고양이   0   0.11  Q     N\n",
       "1   오산시  2023-05  보호중    한국 고양이  고양이   0   0.10  Q     N\n",
       "2  남양주시  2023-05  보호중       셰퍼드    개   3  24.00  F     N\n",
       "3  남양주시  2023-05  보호중       셰퍼드    개   3  27.00  M     N\n",
       "4   성남시  2023-05  보호중   터키시 앙고라  고양이   1   1.10  F     Q"
      ]
     },
     "execution_count": 71,
     "metadata": {},
     "output_type": "execute_result"
    }
   ],
   "source": [
    "abandoned[:5]"
   ]
  },
  {
   "cell_type": "markdown",
   "id": "26d98ba9",
   "metadata": {},
   "source": [
    "가설\n",
    "1. 유기동물의 수는 달마다 꾸준히 증가했을 것이다\n",
    "1. 유기동물의 종류는 개가 가장 많을 것이다\n",
    "1. 개의 품종은 믹스견이 가장 많을 것이다\n",
    "1. 나이가 1살 이하인 동물들의 수가 많을 것이다\n",
    "1. 보호 종료 사유로는 안락사의 비율이 월등히 높을 것이다\n",
    "1. 성별/중성화여부 관련"
   ]
  },
  {
   "cell_type": "markdown",
   "id": "a34bbe60",
   "metadata": {},
   "source": [
    "자료기간 : 2022-11-15 ~ 2023-05-14"
   ]
  },
  {
   "cell_type": "markdown",
   "id": "3baacb17",
   "metadata": {},
   "source": [
    " 「동물보호법」 제40조에 따른 공고가 있는 날부터 10일이 지나도 소유자등을 알 수 없는 경우에는\n",
    "「유실물법」 제12조 및 「민법」 제253조에도 불구하고 해당 시ㆍ도지사 또는 시장ㆍ군수ㆍ구청장이 그 동물의 소유권을 취득하게 됩니다."
   ]
  },
  {
   "cell_type": "markdown",
   "id": "65a82996",
   "metadata": {},
   "source": [
    "안락사에 관한 공식적인 가이드라인은 없는 상태. 개별 수의사에게 맡겨진 셈임"
   ]
  },
  {
   "cell_type": "code",
   "execution_count": 77,
   "id": "c3779d2f",
   "metadata": {},
   "outputs": [
    {
     "data": {
      "image/png": "[encoded data removed]",
      "text/plain": [
       "<Figure size 1400x500 with 1 Axes>"
      ]
     },
     "metadata": {},
     "output_type": "display_data"
    }
   ],
   "source": [
    "## [가설 1] 유기동물의 수는 꾸준히 증가했을 것이다\n",
    "## 22년 11월 15일부터 23년5월 14일까지의 데이터\n",
    "## -> 5월, 11월 제외?\n",
    "\n",
    "abandoned.drop(abandoned[abandoned.접수일자.isin(['2023-05', '2022-11'])].index).groupby('접수일자').접수일자.value_counts().plot(\n",
    "    kind='line',\n",
    "    title='월별 유기동물 개체 수',\n",
    "    rot=0,\n",
    "    figsize=(14, 5),\n",
    "    fontsize=12,\n",
    ")\n",
    "plt.grid(axis='y', alpha=0.5)\n",
    "plt.xlabel('접수 월')\n",
    "plt.ylabel('개체 수 (마리)')\n",
    "plt.show()"
   ]
  },
  {
   "cell_type": "code",
   "execution_count": 112,
   "id": "7c0559ce",
   "metadata": {
    "scrolled": true
   },
   "outputs": [
    {
     "data": {
      "text/html": [
       "<div>\n",
       "<style scoped>\n",
       "    .dataframe tbody tr th:only-of-type {\n",
       "        vertical-align: middle;\n",
       "    }\n",
       "\n",
       "    .dataframe tbody tr th {\n",
       "        vertical-align: top;\n",
       "    }\n",
       "\n",
       "    .dataframe thead th {\n",
       "        text-align: right;\n",
       "    }\n",
       "</style>\n",
       "<table border=\"1\" class=\"dataframe\">\n",
       "  <thead>\n",
       "    <tr style=\"text-align: right;\">\n",
       "      <th></th>\n",
       "      <th>0</th>\n",
       "    </tr>\n",
       "    <tr>\n",
       "      <th>접수일자</th>\n",
       "      <th></th>\n",
       "    </tr>\n",
       "  </thead>\n",
       "  <tbody>\n",
       "    <tr>\n",
       "      <th>2022-11</th>\n",
       "      <td>815</td>\n",
       "    </tr>\n",
       "    <tr>\n",
       "      <th>2022-12</th>\n",
       "      <td>1340</td>\n",
       "    </tr>\n",
       "    <tr>\n",
       "      <th>2023-01</th>\n",
       "      <td>1464</td>\n",
       "    </tr>\n",
       "    <tr>\n",
       "      <th>2023-02</th>\n",
       "      <td>1427</td>\n",
       "    </tr>\n",
       "    <tr>\n",
       "      <th>2023-03</th>\n",
       "      <td>1617</td>\n",
       "    </tr>\n",
       "    <tr>\n",
       "      <th>2023-04</th>\n",
       "      <td>1669</td>\n",
       "    </tr>\n",
       "    <tr>\n",
       "      <th>2023-05</th>\n",
       "      <td>795</td>\n",
       "    </tr>\n",
       "  </tbody>\n",
       "</table>\n",
       "</div>"
      ],
      "text/plain": [
       "            0\n",
       "접수일자         \n",
       "2022-11   815\n",
       "2022-12  1340\n",
       "2023-01  1464\n",
       "2023-02  1427\n",
       "2023-03  1617\n",
       "2023-04  1669\n",
       "2023-05   795"
      ]
     },
     "execution_count": 112,
     "metadata": {},
     "output_type": "execute_result"
    }
   ],
   "source": [
    "abandoned.groupby('접수일자').size().to_frame()"
   ]
  },
  {
   "cell_type": "markdown",
   "id": "bf711322",
   "metadata": {},
   "source": [
    "## [가설 1] 달별 유기동물의 수는 꾸준히 증가했을 것이다\n",
    "- 경기도 내 유기동물의 수는 2022년 12월부터 상승 하였으나, 2023년 1월 1464마리에서 2023년 2월 1427 마리로 하락하였다. 이후 2023년 3월 1617마리, 2023년 4월 1669마리로 지속 상승하였다.\n",
    "- "
   ]
  },
  {
   "cell_type": "code",
   "execution_count": 72,
   "id": "63b27065",
   "metadata": {},
   "outputs": [
    {
     "data": {
      "text/plain": [
       "<Axes: title={'center': '유기동물 품종 비율'}>"
      ]
     },
     "execution_count": 72,
     "metadata": {},
     "output_type": "execute_result"
    },
    {
     "data": {
      "image/png": "[encoded data removed]",
      "text/plain": [
       "<Figure size 500x500 with 1 Axes>"
      ]
     },
     "metadata": {},
     "output_type": "display_data"
    }
   ],
   "source": [
    "## [가설 2] 유기동물의 종류는 개가 가장 많을 것이다  -> 개, 고양이, 기타축종\n",
    "abandoned.groupby('품종').size().sort_values(ascending=False).plot(\n",
    "    kind='pie',\n",
    "    title='유기동물 품종 비율',\n",
    "    figsize=(5, 5),\n",
    "    autopct='%.1f%%',\n",
    "    colors=['#FFA07A', '#FA8072', '#E9967A'],\n",
    "    #colormap='BuPu',\n",
    ")"
   ]
  },
  {
   "cell_type": "code",
   "execution_count": 73,
   "id": "6e35e781",
   "metadata": {
    "scrolled": false
   },
   "outputs": [
    {
     "data": {
      "text/plain": [
       "Text(0, 0.5, '개체 수 (마리)')"
      ]
     },
     "execution_count": 73,
     "metadata": {},
     "output_type": "execute_result"
    },
    {
     "data": {
      "image/png": "[encoded data removed]",
      "text/plain": [
       "<Figure size 500x500 with 1 Axes>"
      ]
     },
     "metadata": {},
     "output_type": "display_data"
    }
   ],
   "source": [
    "abandoned.groupby('품종').size().sort_values(ascending=False).plot(\n",
    "    kind='bar',\n",
    "    title='유기동물 종류 별 개체 수',\n",
    "    rot=0,\n",
    "    figsize=(5, 5),\n",
    "    width=0.5,\n",
    "    color='#66CDAA',\n",
    ")\n",
    "plt.ylabel('개체 수 (마리)')"
   ]
  },
  {
   "cell_type": "code",
   "execution_count": 81,
   "id": "6c7a0650",
   "metadata": {},
   "outputs": [
    {
     "data": {
      "text/plain": [
       "품종\n",
       "개       7600\n",
       "고양이     1391\n",
       "기타축종     136\n",
       "dtype: int64"
      ]
     },
     "execution_count": 81,
     "metadata": {},
     "output_type": "execute_result"
    }
   ],
   "source": [
    "abandoned.groupby('품종').size()"
   ]
  },
  {
   "cell_type": "markdown",
   "id": "35b94716",
   "metadata": {},
   "source": [
    "## [가설 2] 유기동물의 종류는 개가 가장 많을 것이다\n",
    "- 유기동물의 품종은 개가 85.1%, 고양이가 13.4%, 기타축종이 1.5%로 개의 비율이 가장 높았다.\n",
    "-"
   ]
  },
  {
   "cell_type": "code",
   "execution_count": 74,
   "id": "2edb4c73",
   "metadata": {
    "scrolled": false
   },
   "outputs": [
    {
     "data": {
      "text/plain": [
       "<Axes: title={'center': '유기견 상위 10개 품종'}>"
      ]
     },
     "execution_count": 74,
     "metadata": {},
     "output_type": "execute_result"
    },
    {
     "data": {
      "image/png": "[encoded data removed]",
      "text/plain": [
       "<Figure size 600x600 with 1 Axes>"
      ]
     },
     "metadata": {},
     "output_type": "display_data"
    }
   ],
   "source": [
    "## [가설 3] 개의 품종은 믹스견이 가장 많을 것이다\n",
    "## 방법 생각좀 해보자\n",
    "abandoned[abandoned.품종 == '개'].groupby('품종상세').size().sort_values(ascending=False)[:10].plot(\n",
    "    kind='pie',\n",
    "    title='유기견 상위 10개 품종',\n",
    "    autopct='%.1f%%',\n",
    "    figsize=(6, 6),\n",
    "    fontsize=11,\n",
    "    colormap='RdPu'\n",
    ")"
   ]
  },
  {
   "cell_type": "code",
   "execution_count": 5,
   "id": "e8633bb9",
   "metadata": {},
   "outputs": [
    {
     "data": {
      "text/plain": [
       "품종상세\n",
       " 골든 리트리버      78\n",
       " 그레이 하운드       4\n",
       " 그레이트 피레니즈     5\n",
       " 닥스훈트         25\n",
       " 달마시안          2\n",
       "              ..\n",
       " 풍산견          36\n",
       " 프렌치 불독       55\n",
       " 핏불테리어         2\n",
       " 화이트테리어        1\n",
       " 휘펫            1\n",
       "Length: 90, dtype: int64"
      ]
     },
     "execution_count": 5,
     "metadata": {},
     "output_type": "execute_result"
    }
   ],
   "source": [
    "abandoned[abandoned.품종 == '개'].groupby('품종상세').size()"
   ]
  },
  {
   "cell_type": "markdown",
   "id": "cbabfceb",
   "metadata": {},
   "source": [
    "## [가설 3] 유기견의 품종은 믹스견이 가장 많을 것이다\n",
    "- 유기견 90종류 중 개체 수 상위 10개 품종에서 믹스견이 82%로 가장 높은 비율을 보였다.\n",
    "-"
   ]
  },
  {
   "cell_type": "code",
   "execution_count": 75,
   "id": "da033cbf",
   "metadata": {
    "scrolled": false
   },
   "outputs": [
    {
     "data": {
      "image/png": "[encoded data removed]",
      "text/plain": [
       "<Figure size 1400x500 with 1 Axes>"
      ]
     },
     "metadata": {},
     "output_type": "display_data"
    }
   ],
   "source": [
    "## [가설 4] 나이가 어린(1살 이하) 동물들의 수가 많을 것이다\n",
    "abandoned.groupby('나이').size().plot(\n",
    "    figsize=(14 ,5),\n",
    "    xticks=(range(0, len(abandoned.groupby('나이').size()))),\n",
    "    label='개체수',\n",
    "    title='유기동물 나이 별 개체수',\n",
    "    \n",
    ")\n",
    "plt.xlabel('나이 (세)')\n",
    "plt.ylabel('개체 수 (마리)')\n",
    "plt.grid(alpha=0.5)\n",
    "plt.legend()\n",
    "plt.show()"
   ]
  },
  {
   "cell_type": "markdown",
   "id": "b05afbd2",
   "metadata": {},
   "source": [
    "## [가설 4] 나이가 1살 이하인 동물들의 수가 많을 것이다\n",
    "- 유기동물의 나이는 2살이 1,620마리로 가장 높았으며, 0살 1,472마리, 1살 1,062마리 순으로 많았다.\n",
    "- "
   ]
  },
  {
   "cell_type": "code",
   "execution_count": 38,
   "id": "11efd3ca",
   "metadata": {
    "scrolled": false
   },
   "outputs": [
    {
     "data": {
      "text/plain": [
       "상태\n",
       "보호중        1695\n",
       "종료(기증)      512\n",
       "종료(반환)     1444\n",
       "종료(방사)       46\n",
       "종료(안락사)    2085\n",
       "종료(입양)     1884\n",
       "종료(자연사)    1461\n",
       "dtype: int64"
      ]
     },
     "execution_count": 38,
     "metadata": {},
     "output_type": "execute_result"
    }
   ],
   "source": [
    "abandoned.groupby('상태').size()"
   ]
  },
  {
   "cell_type": "code",
   "execution_count": 82,
   "id": "8c6bcbf7",
   "metadata": {
    "scrolled": true
   },
   "outputs": [
    {
     "data": {
      "text/html": [
       "<div>\n",
       "<style scoped>\n",
       "    .dataframe tbody tr th:only-of-type {\n",
       "        vertical-align: middle;\n",
       "    }\n",
       "\n",
       "    .dataframe tbody tr th {\n",
       "        vertical-align: top;\n",
       "    }\n",
       "\n",
       "    .dataframe thead th {\n",
       "        text-align: right;\n",
       "    }\n",
       "</style>\n",
       "<table border=\"1\" class=\"dataframe\">\n",
       "  <thead>\n",
       "    <tr style=\"text-align: right;\">\n",
       "      <th></th>\n",
       "      <th>시군명</th>\n",
       "      <th>접수일자</th>\n",
       "      <th>상태</th>\n",
       "      <th>품종</th>\n",
       "      <th>품종상세</th>\n",
       "      <th>나이</th>\n",
       "      <th>체중</th>\n",
       "      <th>성별</th>\n",
       "      <th>중성화여부</th>\n",
       "    </tr>\n",
       "  </thead>\n",
       "  <tbody>\n",
       "    <tr>\n",
       "      <th>23</th>\n",
       "      <td>고양시</td>\n",
       "      <td>2023-05</td>\n",
       "      <td>종료(반환)</td>\n",
       "      <td>개</td>\n",
       "      <td>믹스견</td>\n",
       "      <td>3</td>\n",
       "      <td>14.0</td>\n",
       "      <td>M</td>\n",
       "      <td>Y</td>\n",
       "    </tr>\n",
       "    <tr>\n",
       "      <th>40</th>\n",
       "      <td>포천시</td>\n",
       "      <td>2023-05</td>\n",
       "      <td>종료(반환)</td>\n",
       "      <td>개</td>\n",
       "      <td>포메라니안</td>\n",
       "      <td>4</td>\n",
       "      <td>4.0</td>\n",
       "      <td>F</td>\n",
       "      <td>Q</td>\n",
       "    </tr>\n",
       "  </tbody>\n",
       "</table>\n",
       "</div>"
      ],
      "text/plain": [
       "    시군명     접수일자      상태 품종    품종상세  나이    체중 성별 중성화여부\n",
       "23  고양시  2023-05  종료(반환)  개     믹스견   3  14.0  M     Y\n",
       "40  포천시  2023-05  종료(반환)  개   포메라니안   4   4.0  F     Q"
      ]
     },
     "execution_count": 82,
     "metadata": {},
     "output_type": "execute_result"
    }
   ],
   "source": [
    "end_detail = abandoned[abandoned.상태.str.contains('종료')]\n",
    "end_detail[:2]"
   ]
  },
  {
   "cell_type": "code",
   "execution_count": 83,
   "id": "81b013d6",
   "metadata": {
    "scrolled": false
   },
   "outputs": [
    {
     "data": {
      "text/html": [
       "<div>\n",
       "<style scoped>\n",
       "    .dataframe tbody tr th:only-of-type {\n",
       "        vertical-align: middle;\n",
       "    }\n",
       "\n",
       "    .dataframe tbody tr th {\n",
       "        vertical-align: top;\n",
       "    }\n",
       "\n",
       "    .dataframe thead th {\n",
       "        text-align: right;\n",
       "    }\n",
       "</style>\n",
       "<table border=\"1\" class=\"dataframe\">\n",
       "  <thead>\n",
       "    <tr style=\"text-align: right;\">\n",
       "      <th></th>\n",
       "      <th>시군명</th>\n",
       "      <th>접수일자</th>\n",
       "      <th>상태</th>\n",
       "      <th>품종</th>\n",
       "      <th>품종상세</th>\n",
       "      <th>나이</th>\n",
       "      <th>체중</th>\n",
       "      <th>성별</th>\n",
       "      <th>중성화여부</th>\n",
       "    </tr>\n",
       "  </thead>\n",
       "  <tbody>\n",
       "    <tr>\n",
       "      <th>23</th>\n",
       "      <td>고양시</td>\n",
       "      <td>2023-05</td>\n",
       "      <td>반환</td>\n",
       "      <td>개</td>\n",
       "      <td>믹스견</td>\n",
       "      <td>3</td>\n",
       "      <td>14.0</td>\n",
       "      <td>M</td>\n",
       "      <td>Y</td>\n",
       "    </tr>\n",
       "    <tr>\n",
       "      <th>40</th>\n",
       "      <td>포천시</td>\n",
       "      <td>2023-05</td>\n",
       "      <td>반환</td>\n",
       "      <td>개</td>\n",
       "      <td>포메라니안</td>\n",
       "      <td>4</td>\n",
       "      <td>4.0</td>\n",
       "      <td>F</td>\n",
       "      <td>Q</td>\n",
       "    </tr>\n",
       "    <tr>\n",
       "      <th>46</th>\n",
       "      <td>고양시</td>\n",
       "      <td>2023-05</td>\n",
       "      <td>반환</td>\n",
       "      <td>개</td>\n",
       "      <td>말티즈</td>\n",
       "      <td>6</td>\n",
       "      <td>3.9</td>\n",
       "      <td>M</td>\n",
       "      <td>Y</td>\n",
       "    </tr>\n",
       "  </tbody>\n",
       "</table>\n",
       "</div>"
      ],
      "text/plain": [
       "    시군명     접수일자  상태 품종    품종상세  나이    체중 성별 중성화여부\n",
       "23  고양시  2023-05  반환  개     믹스견   3  14.0  M     Y\n",
       "40  포천시  2023-05  반환  개   포메라니안   4   4.0  F     Q\n",
       "46  고양시  2023-05  반환  개     말티즈   6   3.9  M     Y"
      ]
     },
     "execution_count": 83,
     "metadata": {},
     "output_type": "execute_result"
    }
   ],
   "source": [
    "end_detail.loc[:, '상태'] = end_detail.상태.str.replace('종료', '').str.replace('(', '').str.replace(')', '')\n",
    "end_detail[:3]"
   ]
  },
  {
   "cell_type": "markdown",
   "id": "66fd26f9",
   "metadata": {},
   "source": [
    "- '입양'은 새로운 가족에 입양\n",
    "- '반환'은 원래 주인에게 반환\n",
    "- '자연사'는 유기동물 보호소 등에서 질병으로 죽는 경우\n",
    "- '안락사'는 고통을 덜어주거나 개체 수 조절을 위해서 약품 등으로 안락사 되는 경우\n",
    "- '방사'는 고양이에 한해 취해지는 조치로 길거리로 다시 돌려보내지는 경우\n",
    "- '기증'은 기관이나 단체 등에게 보내지는 경우를 뜻한다."
   ]
  },
  {
   "cell_type": "code",
   "execution_count": 98,
   "id": "37fbdfdc",
   "metadata": {},
   "outputs": [
    {
     "data": {
      "text/plain": [
       "<Axes: xlabel='상태'>"
      ]
     },
     "execution_count": 98,
     "metadata": {},
     "output_type": "execute_result"
    },
    {
     "data": {
      "image/png": "[encoded data removed]",
      "text/plain": [
       "<Figure size 640x480 with 1 Axes>"
      ]
     },
     "metadata": {},
     "output_type": "display_data"
    }
   ],
   "source": [
    "end_detail.groupby('상태').size().sort_values(ascending=False).plot(\n",
    "    kind='bar',\n",
    "    rot=0,\n",
    ")"
   ]
  },
  {
   "cell_type": "code",
   "execution_count": 123,
   "id": "3b20f8c8",
   "metadata": {},
   "outputs": [
    {
     "data": {
      "text/plain": [
       "<Axes: title={'center': '보호 종료 사유'}>"
      ]
     },
     "execution_count": 123,
     "metadata": {},
     "output_type": "execute_result"
    },
    {
     "data": {
      "image/png": "[encoded data removed]",
      "text/plain": [
       "<Figure size 640x480 with 1 Axes>"
      ]
     },
     "metadata": {},
     "output_type": "display_data"
    }
   ],
   "source": [
    "end_detail.groupby('상태').size().sort_values(ascending=False).plot(\n",
    "    kind='pie',\n",
    "    autopct='%.f%%',\n",
    "    title='보호 종료 사유',\n",
    "    colormap='OrRd',\n",
    "    \n",
    ")"
   ]
  },
  {
   "cell_type": "markdown",
   "id": "d2ea5f9e",
   "metadata": {},
   "source": [
    "##  [가설 5] 보호 종료 사유는 안락사의 비율이 월등히 높을 것이다\n",
    "- 보호 종료 사유로는 안락사가 28%로 가장 높았고, 입양이 25%, 자연사 20%, 반환 19%, 기증 7%, 방사 1% 순이었다.\n",
    "- 안락사 비율이 상당히 높을 것으로 예상했으나, 실제로는 입양 비율과 큰 차이가 없었다."
   ]
  },
  {
   "cell_type": "code",
   "execution_count": 55,
   "id": "d086e02a",
   "metadata": {
    "scrolled": true
   },
   "outputs": [
    {
     "data": {
      "text/html": [
       "<div>\n",
       "<style scoped>\n",
       "    .dataframe tbody tr th:only-of-type {\n",
       "        vertical-align: middle;\n",
       "    }\n",
       "\n",
       "    .dataframe tbody tr th {\n",
       "        vertical-align: top;\n",
       "    }\n",
       "\n",
       "    .dataframe thead th {\n",
       "        text-align: right;\n",
       "    }\n",
       "</style>\n",
       "<table border=\"1\" class=\"dataframe\">\n",
       "  <thead>\n",
       "    <tr style=\"text-align: right;\">\n",
       "      <th></th>\n",
       "      <th>시군명</th>\n",
       "      <th>접수일자</th>\n",
       "      <th>상태</th>\n",
       "      <th>품종</th>\n",
       "      <th>품종상세</th>\n",
       "      <th>나이</th>\n",
       "      <th>체중</th>\n",
       "      <th>성별</th>\n",
       "      <th>중성화여부</th>\n",
       "    </tr>\n",
       "  </thead>\n",
       "  <tbody>\n",
       "    <tr>\n",
       "      <th>0</th>\n",
       "      <td>오산시</td>\n",
       "      <td>2023-05</td>\n",
       "      <td>보호중</td>\n",
       "      <td>고양이</td>\n",
       "      <td>한국 고양이</td>\n",
       "      <td>0</td>\n",
       "      <td>0.11</td>\n",
       "      <td>Q</td>\n",
       "      <td>N</td>\n",
       "    </tr>\n",
       "    <tr>\n",
       "      <th>1</th>\n",
       "      <td>오산시</td>\n",
       "      <td>2023-05</td>\n",
       "      <td>보호중</td>\n",
       "      <td>고양이</td>\n",
       "      <td>한국 고양이</td>\n",
       "      <td>0</td>\n",
       "      <td>0.10</td>\n",
       "      <td>Q</td>\n",
       "      <td>N</td>\n",
       "    </tr>\n",
       "    <tr>\n",
       "      <th>2</th>\n",
       "      <td>남양주시</td>\n",
       "      <td>2023-05</td>\n",
       "      <td>보호중</td>\n",
       "      <td>개</td>\n",
       "      <td>셰퍼드</td>\n",
       "      <td>3</td>\n",
       "      <td>24.00</td>\n",
       "      <td>F</td>\n",
       "      <td>N</td>\n",
       "    </tr>\n",
       "    <tr>\n",
       "      <th>3</th>\n",
       "      <td>남양주시</td>\n",
       "      <td>2023-05</td>\n",
       "      <td>보호중</td>\n",
       "      <td>개</td>\n",
       "      <td>셰퍼드</td>\n",
       "      <td>3</td>\n",
       "      <td>27.00</td>\n",
       "      <td>M</td>\n",
       "      <td>N</td>\n",
       "    </tr>\n",
       "    <tr>\n",
       "      <th>4</th>\n",
       "      <td>성남시</td>\n",
       "      <td>2023-05</td>\n",
       "      <td>보호중</td>\n",
       "      <td>고양이</td>\n",
       "      <td>터키시 앙고라</td>\n",
       "      <td>1</td>\n",
       "      <td>1.10</td>\n",
       "      <td>F</td>\n",
       "      <td>Q</td>\n",
       "    </tr>\n",
       "  </tbody>\n",
       "</table>\n",
       "</div>"
      ],
      "text/plain": [
       "    시군명     접수일자   상태   품종      품종상세  나이     체중 성별 중성화여부\n",
       "0   오산시  2023-05  보호중  고양이    한국 고양이   0   0.11  Q     N\n",
       "1   오산시  2023-05  보호중  고양이    한국 고양이   0   0.10  Q     N\n",
       "2  남양주시  2023-05  보호중    개       셰퍼드   3  24.00  F     N\n",
       "3  남양주시  2023-05  보호중    개       셰퍼드   3  27.00  M     N\n",
       "4   성남시  2023-05  보호중  고양이   터키시 앙고라   1   1.10  F     Q"
      ]
     },
     "execution_count": 55,
     "metadata": {},
     "output_type": "execute_result"
    }
   ],
   "source": [
    "abandoned[:5]"
   ]
  },
  {
   "cell_type": "markdown",
   "id": "c8df121a",
   "metadata": {},
   "source": [
    "유기동물의 성별과 중성화여부는 입양에 영향을 미칠것이다  \n",
    "성별별 중성화별 입양률"
   ]
  },
  {
   "cell_type": "code",
   "execution_count": 86,
   "id": "e1b8fe34",
   "metadata": {
    "collapsed": true
   },
   "outputs": [
    {
     "data": {
      "text/html": [
       "<div>\n",
       "<style scoped>\n",
       "    .dataframe tbody tr th:only-of-type {\n",
       "        vertical-align: middle;\n",
       "    }\n",
       "\n",
       "    .dataframe tbody tr th {\n",
       "        vertical-align: top;\n",
       "    }\n",
       "\n",
       "    .dataframe thead th {\n",
       "        text-align: right;\n",
       "    }\n",
       "</style>\n",
       "<table border=\"1\" class=\"dataframe\">\n",
       "  <thead>\n",
       "    <tr style=\"text-align: right;\">\n",
       "      <th></th>\n",
       "      <th>시군명</th>\n",
       "      <th>접수일자</th>\n",
       "      <th>상태</th>\n",
       "      <th>품종</th>\n",
       "      <th>품종상세</th>\n",
       "      <th>나이</th>\n",
       "      <th>체중</th>\n",
       "      <th>성별</th>\n",
       "      <th>중성화여부</th>\n",
       "    </tr>\n",
       "  </thead>\n",
       "  <tbody>\n",
       "    <tr>\n",
       "      <th>318</th>\n",
       "      <td>수원시</td>\n",
       "      <td>2023-05</td>\n",
       "      <td>입양</td>\n",
       "      <td>고양이</td>\n",
       "      <td>한국 고양이</td>\n",
       "      <td>0</td>\n",
       "      <td>0.38</td>\n",
       "      <td>Q</td>\n",
       "      <td>N</td>\n",
       "    </tr>\n",
       "    <tr>\n",
       "      <th>726</th>\n",
       "      <td>용인시</td>\n",
       "      <td>2023-05</td>\n",
       "      <td>입양</td>\n",
       "      <td>고양이</td>\n",
       "      <td>한국 고양이</td>\n",
       "      <td>0</td>\n",
       "      <td>0.66</td>\n",
       "      <td>F</td>\n",
       "      <td>N</td>\n",
       "    </tr>\n",
       "    <tr>\n",
       "      <th>729</th>\n",
       "      <td>용인시</td>\n",
       "      <td>2023-05</td>\n",
       "      <td>입양</td>\n",
       "      <td>고양이</td>\n",
       "      <td>한국 고양이</td>\n",
       "      <td>0</td>\n",
       "      <td>0.50</td>\n",
       "      <td>F</td>\n",
       "      <td>N</td>\n",
       "    </tr>\n",
       "    <tr>\n",
       "      <th>743</th>\n",
       "      <td>용인시</td>\n",
       "      <td>2023-05</td>\n",
       "      <td>입양</td>\n",
       "      <td>고양이</td>\n",
       "      <td>한국 고양이</td>\n",
       "      <td>0</td>\n",
       "      <td>0.45</td>\n",
       "      <td>F</td>\n",
       "      <td>N</td>\n",
       "    </tr>\n",
       "    <tr>\n",
       "      <th>757</th>\n",
       "      <td>화성시</td>\n",
       "      <td>2023-05</td>\n",
       "      <td>입양</td>\n",
       "      <td>고양이</td>\n",
       "      <td>한국 고양이</td>\n",
       "      <td>0</td>\n",
       "      <td>0.10</td>\n",
       "      <td>Q</td>\n",
       "      <td>Q</td>\n",
       "    </tr>\n",
       "    <tr>\n",
       "      <th>...</th>\n",
       "      <td>...</td>\n",
       "      <td>...</td>\n",
       "      <td>...</td>\n",
       "      <td>...</td>\n",
       "      <td>...</td>\n",
       "      <td>...</td>\n",
       "      <td>...</td>\n",
       "      <td>...</td>\n",
       "      <td>...</td>\n",
       "    </tr>\n",
       "    <tr>\n",
       "      <th>9103</th>\n",
       "      <td>여주시</td>\n",
       "      <td>2022-11</td>\n",
       "      <td>입양</td>\n",
       "      <td>고양이</td>\n",
       "      <td>한국 고양이</td>\n",
       "      <td>2</td>\n",
       "      <td>0.50</td>\n",
       "      <td>M</td>\n",
       "      <td>N</td>\n",
       "    </tr>\n",
       "    <tr>\n",
       "      <th>9119</th>\n",
       "      <td>양평군</td>\n",
       "      <td>2022-11</td>\n",
       "      <td>입양</td>\n",
       "      <td>개</td>\n",
       "      <td>믹스견</td>\n",
       "      <td>2</td>\n",
       "      <td>1.00</td>\n",
       "      <td>Q</td>\n",
       "      <td>N</td>\n",
       "    </tr>\n",
       "    <tr>\n",
       "      <th>9121</th>\n",
       "      <td>파주시</td>\n",
       "      <td>2022-11</td>\n",
       "      <td>입양</td>\n",
       "      <td>개</td>\n",
       "      <td>믹스견</td>\n",
       "      <td>4</td>\n",
       "      <td>11.00</td>\n",
       "      <td>F</td>\n",
       "      <td>N</td>\n",
       "    </tr>\n",
       "    <tr>\n",
       "      <th>9122</th>\n",
       "      <td>파주시</td>\n",
       "      <td>2022-11</td>\n",
       "      <td>입양</td>\n",
       "      <td>고양이</td>\n",
       "      <td>한국 고양이</td>\n",
       "      <td>2</td>\n",
       "      <td>1.88</td>\n",
       "      <td>M</td>\n",
       "      <td>N</td>\n",
       "    </tr>\n",
       "    <tr>\n",
       "      <th>9123</th>\n",
       "      <td>파주시</td>\n",
       "      <td>2022-11</td>\n",
       "      <td>입양</td>\n",
       "      <td>고양이</td>\n",
       "      <td>한국 고양이</td>\n",
       "      <td>2</td>\n",
       "      <td>0.50</td>\n",
       "      <td>F</td>\n",
       "      <td>N</td>\n",
       "    </tr>\n",
       "  </tbody>\n",
       "</table>\n",
       "<p>1884 rows × 9 columns</p>\n",
       "</div>"
      ],
      "text/plain": [
       "      시군명     접수일자  상태   품종     품종상세  나이     체중 성별 중성화여부\n",
       "318   수원시  2023-05  입양  고양이   한국 고양이   0   0.38  Q     N\n",
       "726   용인시  2023-05  입양  고양이   한국 고양이   0   0.66  F     N\n",
       "729   용인시  2023-05  입양  고양이   한국 고양이   0   0.50  F     N\n",
       "743   용인시  2023-05  입양  고양이   한국 고양이   0   0.45  F     N\n",
       "757   화성시  2023-05  입양  고양이   한국 고양이   0   0.10  Q     Q\n",
       "...   ...      ...  ..  ...      ...  ..    ... ..   ...\n",
       "9103  여주시  2022-11  입양  고양이   한국 고양이   2   0.50  M     N\n",
       "9119  양평군  2022-11  입양    개      믹스견   2   1.00  Q     N\n",
       "9121  파주시  2022-11  입양    개      믹스견   4  11.00  F     N\n",
       "9122  파주시  2022-11  입양  고양이   한국 고양이   2   1.88  M     N\n",
       "9123  파주시  2022-11  입양  고양이   한국 고양이   2   0.50  F     N\n",
       "\n",
       "[1884 rows x 9 columns]"
      ]
     },
     "execution_count": 86,
     "metadata": {},
     "output_type": "execute_result"
    }
   ],
   "source": [
    "adoption = end_detail[end_detail.상태 == '입양']\n",
    "adoption"
   ]
  },
  {
   "cell_type": "code",
   "execution_count": 146,
   "id": "932de697",
   "metadata": {},
   "outputs": [
    {
     "data": {
      "text/html": [
       "<div>\n",
       "<style scoped>\n",
       "    .dataframe tbody tr th:only-of-type {\n",
       "        vertical-align: middle;\n",
       "    }\n",
       "\n",
       "    .dataframe tbody tr th {\n",
       "        vertical-align: top;\n",
       "    }\n",
       "\n",
       "    .dataframe thead th {\n",
       "        text-align: right;\n",
       "    }\n",
       "</style>\n",
       "<table border=\"1\" class=\"dataframe\">\n",
       "  <thead>\n",
       "    <tr style=\"text-align: right;\">\n",
       "      <th></th>\n",
       "      <th>시군명</th>\n",
       "      <th>접수일자</th>\n",
       "      <th>상태</th>\n",
       "      <th>품종</th>\n",
       "      <th>품종상세</th>\n",
       "      <th>나이</th>\n",
       "      <th>체중</th>\n",
       "      <th>성별</th>\n",
       "      <th>중성화여부</th>\n",
       "    </tr>\n",
       "  </thead>\n",
       "  <tbody>\n",
       "    <tr>\n",
       "      <th>23</th>\n",
       "      <td>고양시</td>\n",
       "      <td>2023-05</td>\n",
       "      <td>종료(반환)</td>\n",
       "      <td>개</td>\n",
       "      <td>믹스견</td>\n",
       "      <td>3</td>\n",
       "      <td>14.00</td>\n",
       "      <td>M</td>\n",
       "      <td>Y</td>\n",
       "    </tr>\n",
       "    <tr>\n",
       "      <th>40</th>\n",
       "      <td>포천시</td>\n",
       "      <td>2023-05</td>\n",
       "      <td>종료(반환)</td>\n",
       "      <td>개</td>\n",
       "      <td>포메라니안</td>\n",
       "      <td>4</td>\n",
       "      <td>4.00</td>\n",
       "      <td>F</td>\n",
       "      <td>Q</td>\n",
       "    </tr>\n",
       "    <tr>\n",
       "      <th>46</th>\n",
       "      <td>고양시</td>\n",
       "      <td>2023-05</td>\n",
       "      <td>종료(반환)</td>\n",
       "      <td>개</td>\n",
       "      <td>말티즈</td>\n",
       "      <td>6</td>\n",
       "      <td>3.90</td>\n",
       "      <td>M</td>\n",
       "      <td>Y</td>\n",
       "    </tr>\n",
       "    <tr>\n",
       "      <th>52</th>\n",
       "      <td>성남시</td>\n",
       "      <td>2023-05</td>\n",
       "      <td>종료(반환)</td>\n",
       "      <td>개</td>\n",
       "      <td>라이카</td>\n",
       "      <td>4</td>\n",
       "      <td>21.00</td>\n",
       "      <td>M</td>\n",
       "      <td>N</td>\n",
       "    </tr>\n",
       "    <tr>\n",
       "      <th>60</th>\n",
       "      <td>성남시</td>\n",
       "      <td>2023-05</td>\n",
       "      <td>종료(자연사)</td>\n",
       "      <td>고양이</td>\n",
       "      <td>한국 고양이</td>\n",
       "      <td>0</td>\n",
       "      <td>0.16</td>\n",
       "      <td>M</td>\n",
       "      <td>N</td>\n",
       "    </tr>\n",
       "    <tr>\n",
       "      <th>...</th>\n",
       "      <td>...</td>\n",
       "      <td>...</td>\n",
       "      <td>...</td>\n",
       "      <td>...</td>\n",
       "      <td>...</td>\n",
       "      <td>...</td>\n",
       "      <td>...</td>\n",
       "      <td>...</td>\n",
       "      <td>...</td>\n",
       "    </tr>\n",
       "    <tr>\n",
       "      <th>9122</th>\n",
       "      <td>파주시</td>\n",
       "      <td>2022-11</td>\n",
       "      <td>종료(입양)</td>\n",
       "      <td>고양이</td>\n",
       "      <td>한국 고양이</td>\n",
       "      <td>2</td>\n",
       "      <td>1.88</td>\n",
       "      <td>M</td>\n",
       "      <td>N</td>\n",
       "    </tr>\n",
       "    <tr>\n",
       "      <th>9123</th>\n",
       "      <td>파주시</td>\n",
       "      <td>2022-11</td>\n",
       "      <td>종료(입양)</td>\n",
       "      <td>고양이</td>\n",
       "      <td>한국 고양이</td>\n",
       "      <td>2</td>\n",
       "      <td>0.50</td>\n",
       "      <td>F</td>\n",
       "      <td>N</td>\n",
       "    </tr>\n",
       "    <tr>\n",
       "      <th>9124</th>\n",
       "      <td>파주시</td>\n",
       "      <td>2022-11</td>\n",
       "      <td>종료(안락사)</td>\n",
       "      <td>개</td>\n",
       "      <td>믹스견</td>\n",
       "      <td>4</td>\n",
       "      <td>16.90</td>\n",
       "      <td>F</td>\n",
       "      <td>N</td>\n",
       "    </tr>\n",
       "    <tr>\n",
       "      <th>9125</th>\n",
       "      <td>화성시</td>\n",
       "      <td>2022-11</td>\n",
       "      <td>종료(기증)</td>\n",
       "      <td>개</td>\n",
       "      <td>믹스견</td>\n",
       "      <td>8</td>\n",
       "      <td>4.00</td>\n",
       "      <td>M</td>\n",
       "      <td>Q</td>\n",
       "    </tr>\n",
       "    <tr>\n",
       "      <th>9126</th>\n",
       "      <td>화성시</td>\n",
       "      <td>2022-11</td>\n",
       "      <td>종료(자연사)</td>\n",
       "      <td>개</td>\n",
       "      <td>믹스견</td>\n",
       "      <td>2</td>\n",
       "      <td>3.00</td>\n",
       "      <td>M</td>\n",
       "      <td>N</td>\n",
       "    </tr>\n",
       "  </tbody>\n",
       "</table>\n",
       "<p>7432 rows × 9 columns</p>\n",
       "</div>"
      ],
      "text/plain": [
       "      시군명     접수일자       상태   품종     품종상세  나이     체중 성별 중성화여부\n",
       "23    고양시  2023-05   종료(반환)    개      믹스견   3  14.00  M     Y\n",
       "40    포천시  2023-05   종료(반환)    개    포메라니안   4   4.00  F     Q\n",
       "46    고양시  2023-05   종료(반환)    개      말티즈   6   3.90  M     Y\n",
       "52    성남시  2023-05   종료(반환)    개      라이카   4  21.00  M     N\n",
       "60    성남시  2023-05  종료(자연사)  고양이   한국 고양이   0   0.16  M     N\n",
       "...   ...      ...      ...  ...      ...  ..    ... ..   ...\n",
       "9122  파주시  2022-11   종료(입양)  고양이   한국 고양이   2   1.88  M     N\n",
       "9123  파주시  2022-11   종료(입양)  고양이   한국 고양이   2   0.50  F     N\n",
       "9124  파주시  2022-11  종료(안락사)    개      믹스견   4  16.90  F     N\n",
       "9125  화성시  2022-11   종료(기증)    개      믹스견   8   4.00  M     Q\n",
       "9126  화성시  2022-11  종료(자연사)    개      믹스견   2   3.00  M     N\n",
       "\n",
       "[7432 rows x 9 columns]"
      ]
     },
     "execution_count": 146,
     "metadata": {},
     "output_type": "execute_result"
    }
   ],
   "source": [
    "abandoned[abandoned.상태.str.contains('종료')]"
   ]
  },
  {
   "cell_type": "code",
   "execution_count": 4,
   "id": "0ece2454",
   "metadata": {
    "collapsed": true
   },
   "outputs": [
    {
     "data": {
      "text/html": [
       "<div>\n",
       "<style scoped>\n",
       "    .dataframe tbody tr th:only-of-type {\n",
       "        vertical-align: middle;\n",
       "    }\n",
       "\n",
       "    .dataframe tbody tr th {\n",
       "        vertical-align: top;\n",
       "    }\n",
       "\n",
       "    .dataframe thead th {\n",
       "        text-align: right;\n",
       "    }\n",
       "</style>\n",
       "<table border=\"1\" class=\"dataframe\">\n",
       "  <thead>\n",
       "    <tr style=\"text-align: right;\">\n",
       "      <th></th>\n",
       "      <th>시군명</th>\n",
       "      <th>접수일자</th>\n",
       "      <th>상태</th>\n",
       "      <th>품종</th>\n",
       "      <th>품종상세</th>\n",
       "      <th>나이</th>\n",
       "      <th>체중</th>\n",
       "      <th>성별</th>\n",
       "      <th>중성화여부</th>\n",
       "    </tr>\n",
       "  </thead>\n",
       "  <tbody>\n",
       "    <tr>\n",
       "      <th>726</th>\n",
       "      <td>용인시</td>\n",
       "      <td>2023-05</td>\n",
       "      <td>종료(입양)</td>\n",
       "      <td>고양이</td>\n",
       "      <td>한국 고양이</td>\n",
       "      <td>0</td>\n",
       "      <td>0.66</td>\n",
       "      <td>F</td>\n",
       "      <td>N</td>\n",
       "    </tr>\n",
       "    <tr>\n",
       "      <th>729</th>\n",
       "      <td>용인시</td>\n",
       "      <td>2023-05</td>\n",
       "      <td>종료(입양)</td>\n",
       "      <td>고양이</td>\n",
       "      <td>한국 고양이</td>\n",
       "      <td>0</td>\n",
       "      <td>0.50</td>\n",
       "      <td>F</td>\n",
       "      <td>N</td>\n",
       "    </tr>\n",
       "    <tr>\n",
       "      <th>743</th>\n",
       "      <td>용인시</td>\n",
       "      <td>2023-05</td>\n",
       "      <td>종료(입양)</td>\n",
       "      <td>고양이</td>\n",
       "      <td>한국 고양이</td>\n",
       "      <td>0</td>\n",
       "      <td>0.45</td>\n",
       "      <td>F</td>\n",
       "      <td>N</td>\n",
       "    </tr>\n",
       "    <tr>\n",
       "      <th>810</th>\n",
       "      <td>성남시</td>\n",
       "      <td>2023-04</td>\n",
       "      <td>종료(입양)</td>\n",
       "      <td>기타축종</td>\n",
       "      <td>토끼</td>\n",
       "      <td>0</td>\n",
       "      <td>0.38</td>\n",
       "      <td>F</td>\n",
       "      <td>N</td>\n",
       "    </tr>\n",
       "    <tr>\n",
       "      <th>837</th>\n",
       "      <td>수원시</td>\n",
       "      <td>2023-04</td>\n",
       "      <td>종료(입양)</td>\n",
       "      <td>개</td>\n",
       "      <td>시츄</td>\n",
       "      <td>6</td>\n",
       "      <td>3.80</td>\n",
       "      <td>F</td>\n",
       "      <td>Q</td>\n",
       "    </tr>\n",
       "    <tr>\n",
       "      <th>...</th>\n",
       "      <td>...</td>\n",
       "      <td>...</td>\n",
       "      <td>...</td>\n",
       "      <td>...</td>\n",
       "      <td>...</td>\n",
       "      <td>...</td>\n",
       "      <td>...</td>\n",
       "      <td>...</td>\n",
       "      <td>...</td>\n",
       "    </tr>\n",
       "    <tr>\n",
       "      <th>9080</th>\n",
       "      <td>안산시</td>\n",
       "      <td>2022-11</td>\n",
       "      <td>종료(입양)</td>\n",
       "      <td>개</td>\n",
       "      <td>믹스견</td>\n",
       "      <td>8</td>\n",
       "      <td>3.50</td>\n",
       "      <td>F</td>\n",
       "      <td>Q</td>\n",
       "    </tr>\n",
       "    <tr>\n",
       "      <th>9087</th>\n",
       "      <td>성남시</td>\n",
       "      <td>2022-11</td>\n",
       "      <td>종료(입양)</td>\n",
       "      <td>고양이</td>\n",
       "      <td>한국 고양이</td>\n",
       "      <td>2</td>\n",
       "      <td>1.00</td>\n",
       "      <td>F</td>\n",
       "      <td>N</td>\n",
       "    </tr>\n",
       "    <tr>\n",
       "      <th>9097</th>\n",
       "      <td>부천시</td>\n",
       "      <td>2022-11</td>\n",
       "      <td>종료(입양)</td>\n",
       "      <td>개</td>\n",
       "      <td>포메라니안</td>\n",
       "      <td>3</td>\n",
       "      <td>3.70</td>\n",
       "      <td>F</td>\n",
       "      <td>Q</td>\n",
       "    </tr>\n",
       "    <tr>\n",
       "      <th>9121</th>\n",
       "      <td>파주시</td>\n",
       "      <td>2022-11</td>\n",
       "      <td>종료(입양)</td>\n",
       "      <td>개</td>\n",
       "      <td>믹스견</td>\n",
       "      <td>4</td>\n",
       "      <td>11.00</td>\n",
       "      <td>F</td>\n",
       "      <td>N</td>\n",
       "    </tr>\n",
       "    <tr>\n",
       "      <th>9123</th>\n",
       "      <td>파주시</td>\n",
       "      <td>2022-11</td>\n",
       "      <td>종료(입양)</td>\n",
       "      <td>고양이</td>\n",
       "      <td>한국 고양이</td>\n",
       "      <td>2</td>\n",
       "      <td>0.50</td>\n",
       "      <td>F</td>\n",
       "      <td>N</td>\n",
       "    </tr>\n",
       "  </tbody>\n",
       "</table>\n",
       "<p>883 rows × 9 columns</p>\n",
       "</div>"
      ],
      "text/plain": [
       "      시군명     접수일자      상태    품종     품종상세  나이     체중 성별 중성화여부\n",
       "726   용인시  2023-05  종료(입양)   고양이   한국 고양이   0   0.66  F     N\n",
       "729   용인시  2023-05  종료(입양)   고양이   한국 고양이   0   0.50  F     N\n",
       "743   용인시  2023-05  종료(입양)   고양이   한국 고양이   0   0.45  F     N\n",
       "810   성남시  2023-04  종료(입양)  기타축종       토끼   0   0.38  F     N\n",
       "837   수원시  2023-04  종료(입양)     개       시츄   6   3.80  F     Q\n",
       "...   ...      ...     ...   ...      ...  ..    ... ..   ...\n",
       "9080  안산시  2022-11  종료(입양)     개      믹스견   8   3.50  F     Q\n",
       "9087  성남시  2022-11  종료(입양)   고양이   한국 고양이   2   1.00  F     N\n",
       "9097  부천시  2022-11  종료(입양)     개    포메라니안   3   3.70  F     Q\n",
       "9121  파주시  2022-11  종료(입양)     개      믹스견   4  11.00  F     N\n",
       "9123  파주시  2022-11  종료(입양)   고양이   한국 고양이   2   0.50  F     N\n",
       "\n",
       "[883 rows x 9 columns]"
      ]
     },
     "execution_count": 4,
     "metadata": {},
     "output_type": "execute_result"
    }
   ],
   "source": [
    "abandoned[(abandoned.상태.str.contains('입양')) & (abandoned.성별 == 'F')]"
   ]
  },
  {
   "cell_type": "code",
   "execution_count": 5,
   "id": "5aabf586",
   "metadata": {
    "collapsed": true
   },
   "outputs": [
    {
     "data": {
      "text/html": [
       "<div>\n",
       "<style scoped>\n",
       "    .dataframe tbody tr th:only-of-type {\n",
       "        vertical-align: middle;\n",
       "    }\n",
       "\n",
       "    .dataframe tbody tr th {\n",
       "        vertical-align: top;\n",
       "    }\n",
       "\n",
       "    .dataframe thead th {\n",
       "        text-align: right;\n",
       "    }\n",
       "</style>\n",
       "<table border=\"1\" class=\"dataframe\">\n",
       "  <thead>\n",
       "    <tr style=\"text-align: right;\">\n",
       "      <th></th>\n",
       "      <th>시군명</th>\n",
       "      <th>접수일자</th>\n",
       "      <th>상태</th>\n",
       "      <th>품종</th>\n",
       "      <th>품종상세</th>\n",
       "      <th>나이</th>\n",
       "      <th>체중</th>\n",
       "      <th>성별</th>\n",
       "      <th>중성화여부</th>\n",
       "    </tr>\n",
       "  </thead>\n",
       "  <tbody>\n",
       "    <tr>\n",
       "      <th>789</th>\n",
       "      <td>수원시</td>\n",
       "      <td>2023-05</td>\n",
       "      <td>종료(입양)</td>\n",
       "      <td>개</td>\n",
       "      <td>말티즈</td>\n",
       "      <td>4</td>\n",
       "      <td>3.50</td>\n",
       "      <td>M</td>\n",
       "      <td>N</td>\n",
       "    </tr>\n",
       "    <tr>\n",
       "      <th>861</th>\n",
       "      <td>고양시</td>\n",
       "      <td>2023-04</td>\n",
       "      <td>종료(입양)</td>\n",
       "      <td>개</td>\n",
       "      <td>믹스견</td>\n",
       "      <td>3</td>\n",
       "      <td>19.00</td>\n",
       "      <td>M</td>\n",
       "      <td>Q</td>\n",
       "    </tr>\n",
       "    <tr>\n",
       "      <th>873</th>\n",
       "      <td>용인시</td>\n",
       "      <td>2023-04</td>\n",
       "      <td>종료(입양)</td>\n",
       "      <td>고양이</td>\n",
       "      <td>브리티시 쇼트헤어</td>\n",
       "      <td>7</td>\n",
       "      <td>5.30</td>\n",
       "      <td>M</td>\n",
       "      <td>Y</td>\n",
       "    </tr>\n",
       "    <tr>\n",
       "      <th>874</th>\n",
       "      <td>성남시</td>\n",
       "      <td>2023-04</td>\n",
       "      <td>종료(입양)</td>\n",
       "      <td>개</td>\n",
       "      <td>믹스견</td>\n",
       "      <td>1</td>\n",
       "      <td>3.50</td>\n",
       "      <td>M</td>\n",
       "      <td>N</td>\n",
       "    </tr>\n",
       "    <tr>\n",
       "      <th>888</th>\n",
       "      <td>광주시</td>\n",
       "      <td>2023-04</td>\n",
       "      <td>종료(입양)</td>\n",
       "      <td>고양이</td>\n",
       "      <td>한국 고양이</td>\n",
       "      <td>0</td>\n",
       "      <td>0.20</td>\n",
       "      <td>M</td>\n",
       "      <td>N</td>\n",
       "    </tr>\n",
       "    <tr>\n",
       "      <th>...</th>\n",
       "      <td>...</td>\n",
       "      <td>...</td>\n",
       "      <td>...</td>\n",
       "      <td>...</td>\n",
       "      <td>...</td>\n",
       "      <td>...</td>\n",
       "      <td>...</td>\n",
       "      <td>...</td>\n",
       "      <td>...</td>\n",
       "    </tr>\n",
       "    <tr>\n",
       "      <th>9052</th>\n",
       "      <td>이천시</td>\n",
       "      <td>2022-11</td>\n",
       "      <td>종료(입양)</td>\n",
       "      <td>개</td>\n",
       "      <td>라브라도 리트리버</td>\n",
       "      <td>4</td>\n",
       "      <td>25.00</td>\n",
       "      <td>M</td>\n",
       "      <td>N</td>\n",
       "    </tr>\n",
       "    <tr>\n",
       "      <th>9057</th>\n",
       "      <td>오산시</td>\n",
       "      <td>2022-11</td>\n",
       "      <td>종료(입양)</td>\n",
       "      <td>고양이</td>\n",
       "      <td>러시안 블루</td>\n",
       "      <td>2</td>\n",
       "      <td>4.60</td>\n",
       "      <td>M</td>\n",
       "      <td>Y</td>\n",
       "    </tr>\n",
       "    <tr>\n",
       "      <th>9096</th>\n",
       "      <td>평택시</td>\n",
       "      <td>2022-11</td>\n",
       "      <td>종료(입양)</td>\n",
       "      <td>개</td>\n",
       "      <td>웰시 코기 펨브로크</td>\n",
       "      <td>9</td>\n",
       "      <td>8.00</td>\n",
       "      <td>M</td>\n",
       "      <td>Y</td>\n",
       "    </tr>\n",
       "    <tr>\n",
       "      <th>9103</th>\n",
       "      <td>여주시</td>\n",
       "      <td>2022-11</td>\n",
       "      <td>종료(입양)</td>\n",
       "      <td>고양이</td>\n",
       "      <td>한국 고양이</td>\n",
       "      <td>2</td>\n",
       "      <td>0.50</td>\n",
       "      <td>M</td>\n",
       "      <td>N</td>\n",
       "    </tr>\n",
       "    <tr>\n",
       "      <th>9122</th>\n",
       "      <td>파주시</td>\n",
       "      <td>2022-11</td>\n",
       "      <td>종료(입양)</td>\n",
       "      <td>고양이</td>\n",
       "      <td>한국 고양이</td>\n",
       "      <td>2</td>\n",
       "      <td>1.88</td>\n",
       "      <td>M</td>\n",
       "      <td>N</td>\n",
       "    </tr>\n",
       "  </tbody>\n",
       "</table>\n",
       "<p>905 rows × 9 columns</p>\n",
       "</div>"
      ],
      "text/plain": [
       "      시군명     접수일자      상태   품종         품종상세  나이     체중 성별 중성화여부\n",
       "789   수원시  2023-05  종료(입양)    개          말티즈   4   3.50  M     N\n",
       "861   고양시  2023-04  종료(입양)    개          믹스견   3  19.00  M     Q\n",
       "873   용인시  2023-04  종료(입양)  고양이    브리티시 쇼트헤어   7   5.30  M     Y\n",
       "874   성남시  2023-04  종료(입양)    개          믹스견   1   3.50  M     N\n",
       "888   광주시  2023-04  종료(입양)  고양이       한국 고양이   0   0.20  M     N\n",
       "...   ...      ...     ...  ...          ...  ..    ... ..   ...\n",
       "9052  이천시  2022-11  종료(입양)    개    라브라도 리트리버   4  25.00  M     N\n",
       "9057  오산시  2022-11  종료(입양)  고양이       러시안 블루   2   4.60  M     Y\n",
       "9096  평택시  2022-11  종료(입양)    개   웰시 코기 펨브로크   9   8.00  M     Y\n",
       "9103  여주시  2022-11  종료(입양)  고양이       한국 고양이   2   0.50  M     N\n",
       "9122  파주시  2022-11  종료(입양)  고양이       한국 고양이   2   1.88  M     N\n",
       "\n",
       "[905 rows x 9 columns]"
      ]
     },
     "execution_count": 5,
     "metadata": {},
     "output_type": "execute_result"
    }
   ],
   "source": [
    "abandoned[(abandoned.상태.str.contains('입양')) & (abandoned.성별 == 'M')]"
   ]
  },
  {
   "cell_type": "code",
   "execution_count": 36,
   "id": "e14286da",
   "metadata": {},
   "outputs": [],
   "source": [
    "adoption_female_rate = len(abandoned[(abandoned.상태.str.contains('입양')) & (abandoned.성별 == 'F')]) / len(abandoned[abandoned.상태.str.contains('종료')]) * 100"
   ]
  },
  {
   "cell_type": "code",
   "execution_count": 37,
   "id": "4ee2cbec",
   "metadata": {},
   "outputs": [],
   "source": [
    "adoption_male_rate = len(abandoned[(abandoned.상태.str.contains('입양')) & (abandoned.성별 == 'M')]) / len(abandoned[abandoned.상태.str.contains('종료')]) * 100"
   ]
  },
  {
   "cell_type": "code",
   "execution_count": 38,
   "id": "72d2d852",
   "metadata": {},
   "outputs": [],
   "source": [
    "altered_y_rate = len(abandoned[(abandoned.상태.str.contains('입양')) & (abandoned.중성화여부 == 'Y')]) / len(abandoned[abandoned.상태.str.contains('종료')]) * 100"
   ]
  },
  {
   "cell_type": "code",
   "execution_count": 39,
   "id": "2c30e24e",
   "metadata": {},
   "outputs": [],
   "source": [
    "altered_n_rate = len(abandoned[(abandoned.상태.str.contains('입양')) & (abandoned.중성화여부 == 'N')]) / len(abandoned[abandoned.상태.str.contains('종료')]) * 100"
   ]
  },
  {
   "cell_type": "code",
   "execution_count": 40,
   "id": "f9c3bfc8",
   "metadata": {
    "scrolled": true
   },
   "outputs": [
    {
     "data": {
      "text/plain": [
       "{'수컷': 12.17707212055974,\n",
       " '암컷': 11.881054897739505,\n",
       " '중성화': 1.9375672766415502,\n",
       " '비중성화': 16.89989235737352}"
      ]
     },
     "execution_count": 40,
     "metadata": {},
     "output_type": "execute_result"
    }
   ],
   "source": [
    "dic_rate = {'수컷': adoption_male_rate, \n",
    "            '암컷': adoption_female_rate,\n",
    "            '중성화': altered_y_rate,\n",
    "            '비중성화': altered_n_rate,\n",
    "           }\n",
    "dic_rate"
   ]
  },
  {
   "cell_type": "code",
   "execution_count": 31,
   "id": "6ec09ae2",
   "metadata": {
    "scrolled": true
   },
   "outputs": [
    {
     "data": {
      "text/plain": [
       "품종상세\n",
       "알수없음      31\n",
       "토끼        26\n",
       "닭         18\n",
       "햄스터       14\n",
       "흑염소        8\n",
       "앵무새        5\n",
       "염소         5\n",
       "고슴도치       4\n",
       "사랑앵무       3\n",
       "골든 햄스터     2\n",
       "거위         2\n",
       "사향오리       2\n",
       "갈색거위       1\n",
       "공작새        1\n",
       "은계         1\n",
       "칠면조        1\n",
       "앵무         1\n",
       "기니피그       1\n",
       "백봉 오골계     1\n",
       "새          1\n",
       "꿩(금계)      1\n",
       "라쿤         1\n",
       "아마존앵무      1\n",
       "황금계        1\n",
       "거북이        1\n",
       "백한         1\n",
       "돼지         1\n",
       "모란앵무       1\n",
       "Name: count, dtype: int64"
      ]
     },
     "execution_count": 31,
     "metadata": {},
     "output_type": "execute_result"
    }
   ],
   "source": [
    "abandoned[abandoned.품종 == '기타축종'].품종상세.value_counts()"
   ]
  },
  {
   "cell_type": "code",
   "execution_count": 29,
   "id": "464c4e40",
   "metadata": {
    "scrolled": true
   },
   "outputs": [],
   "source": [
    "abandoned.loc[(abandoned.품종 == '기타축종') & (abandoned.품종상세 == ''), '품종상세'] = '알수없음'"
   ]
  },
  {
   "cell_type": "code",
   "execution_count": 30,
   "id": "5123fa2c",
   "metadata": {
    "scrolled": true
   },
   "outputs": [
    {
     "data": {
      "text/html": [
       "<div>\n",
       "<style scoped>\n",
       "    .dataframe tbody tr th:only-of-type {\n",
       "        vertical-align: middle;\n",
       "    }\n",
       "\n",
       "    .dataframe tbody tr th {\n",
       "        vertical-align: top;\n",
       "    }\n",
       "\n",
       "    .dataframe thead th {\n",
       "        text-align: right;\n",
       "    }\n",
       "</style>\n",
       "<table border=\"1\" class=\"dataframe\">\n",
       "  <thead>\n",
       "    <tr style=\"text-align: right;\">\n",
       "      <th></th>\n",
       "      <th>시군명</th>\n",
       "      <th>접수일자</th>\n",
       "      <th>상태</th>\n",
       "      <th>품종</th>\n",
       "      <th>품종상세</th>\n",
       "      <th>나이</th>\n",
       "      <th>체중</th>\n",
       "      <th>성별</th>\n",
       "      <th>중성화여부</th>\n",
       "    </tr>\n",
       "  </thead>\n",
       "  <tbody>\n",
       "    <tr>\n",
       "      <th>81</th>\n",
       "      <td>성남시</td>\n",
       "      <td>2023-05</td>\n",
       "      <td>종료(자연사)</td>\n",
       "      <td>기타축종</td>\n",
       "      <td>햄스터</td>\n",
       "      <td>2</td>\n",
       "      <td>0.01</td>\n",
       "      <td>Q</td>\n",
       "      <td>N</td>\n",
       "    </tr>\n",
       "    <tr>\n",
       "      <th>220</th>\n",
       "      <td>고양시</td>\n",
       "      <td>2023-05</td>\n",
       "      <td>보호중</td>\n",
       "      <td>기타축종</td>\n",
       "      <td>앵무새</td>\n",
       "      <td>2</td>\n",
       "      <td>0.03</td>\n",
       "      <td>Q</td>\n",
       "      <td>Q</td>\n",
       "    </tr>\n",
       "    <tr>\n",
       "      <th>224</th>\n",
       "      <td>평택시</td>\n",
       "      <td>2023-05</td>\n",
       "      <td>보호중</td>\n",
       "      <td>기타축종</td>\n",
       "      <td>골든 햄스터</td>\n",
       "      <td>0</td>\n",
       "      <td>0.01</td>\n",
       "      <td>F</td>\n",
       "      <td>N</td>\n",
       "    </tr>\n",
       "    <tr>\n",
       "      <th>236</th>\n",
       "      <td>평택시</td>\n",
       "      <td>2023-05</td>\n",
       "      <td>보호중</td>\n",
       "      <td>기타축종</td>\n",
       "      <td>골든 햄스터</td>\n",
       "      <td>0</td>\n",
       "      <td>0.01</td>\n",
       "      <td>M</td>\n",
       "      <td>N</td>\n",
       "    </tr>\n",
       "    <tr>\n",
       "      <th>304</th>\n",
       "      <td>평택시</td>\n",
       "      <td>2023-05</td>\n",
       "      <td>보호중</td>\n",
       "      <td>기타축종</td>\n",
       "      <td>햄스터</td>\n",
       "      <td>0</td>\n",
       "      <td>0.05</td>\n",
       "      <td>Q</td>\n",
       "      <td>N</td>\n",
       "    </tr>\n",
       "    <tr>\n",
       "      <th>...</th>\n",
       "      <td>...</td>\n",
       "      <td>...</td>\n",
       "      <td>...</td>\n",
       "      <td>...</td>\n",
       "      <td>...</td>\n",
       "      <td>...</td>\n",
       "      <td>...</td>\n",
       "      <td>...</td>\n",
       "      <td>...</td>\n",
       "    </tr>\n",
       "    <tr>\n",
       "      <th>8767</th>\n",
       "      <td>평택시</td>\n",
       "      <td>2022-11</td>\n",
       "      <td>종료(입양)</td>\n",
       "      <td>기타축종</td>\n",
       "      <td>알수없음</td>\n",
       "      <td>2</td>\n",
       "      <td>1.00</td>\n",
       "      <td>M</td>\n",
       "      <td>Y</td>\n",
       "    </tr>\n",
       "    <tr>\n",
       "      <th>8773</th>\n",
       "      <td>고양시</td>\n",
       "      <td>2022-11</td>\n",
       "      <td>종료(입양)</td>\n",
       "      <td>기타축종</td>\n",
       "      <td>모란앵무</td>\n",
       "      <td>2</td>\n",
       "      <td>0.04</td>\n",
       "      <td>Q</td>\n",
       "      <td>Q</td>\n",
       "    </tr>\n",
       "    <tr>\n",
       "      <th>8800</th>\n",
       "      <td>안양시</td>\n",
       "      <td>2022-11</td>\n",
       "      <td>종료(입양)</td>\n",
       "      <td>기타축종</td>\n",
       "      <td>알수없음</td>\n",
       "      <td>2</td>\n",
       "      <td>0.30</td>\n",
       "      <td>Q</td>\n",
       "      <td>Q</td>\n",
       "    </tr>\n",
       "    <tr>\n",
       "      <th>8820</th>\n",
       "      <td>남양주시</td>\n",
       "      <td>2022-11</td>\n",
       "      <td>종료(반환)</td>\n",
       "      <td>기타축종</td>\n",
       "      <td>알수없음</td>\n",
       "      <td>4</td>\n",
       "      <td>0.50</td>\n",
       "      <td>Q</td>\n",
       "      <td>Q</td>\n",
       "    </tr>\n",
       "    <tr>\n",
       "      <th>8854</th>\n",
       "      <td>의정부시</td>\n",
       "      <td>2022-11</td>\n",
       "      <td>종료(기증)</td>\n",
       "      <td>기타축종</td>\n",
       "      <td>앵무새</td>\n",
       "      <td>3</td>\n",
       "      <td>0.10</td>\n",
       "      <td>Q</td>\n",
       "      <td>Q</td>\n",
       "    </tr>\n",
       "  </tbody>\n",
       "</table>\n",
       "<p>136 rows × 9 columns</p>\n",
       "</div>"
      ],
      "text/plain": [
       "       시군명     접수일자       상태    품종    품종상세  나이    체중 성별 중성화여부\n",
       "81     성남시  2023-05  종료(자연사)  기타축종     햄스터   2  0.01  Q     N\n",
       "220    고양시  2023-05      보호중  기타축종     앵무새   2  0.03  Q     Q\n",
       "224    평택시  2023-05      보호중  기타축종  골든 햄스터   0  0.01  F     N\n",
       "236    평택시  2023-05      보호중  기타축종  골든 햄스터   0  0.01  M     N\n",
       "304    평택시  2023-05      보호중  기타축종     햄스터   0  0.05  Q     N\n",
       "...    ...      ...      ...   ...     ...  ..   ... ..   ...\n",
       "8767   평택시  2022-11   종료(입양)  기타축종    알수없음   2  1.00  M     Y\n",
       "8773   고양시  2022-11   종료(입양)  기타축종    모란앵무   2  0.04  Q     Q\n",
       "8800   안양시  2022-11   종료(입양)  기타축종    알수없음   2  0.30  Q     Q\n",
       "8820  남양주시  2022-11   종료(반환)  기타축종    알수없음   4  0.50  Q     Q\n",
       "8854  의정부시  2022-11   종료(기증)  기타축종     앵무새   3  0.10  Q     Q\n",
       "\n",
       "[136 rows x 9 columns]"
      ]
     },
     "execution_count": 30,
     "metadata": {},
     "output_type": "execute_result"
    }
   ],
   "source": [
    "abandoned[abandoned.품종 == '기타축종']"
   ]
  },
  {
   "cell_type": "code",
   "execution_count": 16,
   "id": "bd726f59",
   "metadata": {},
   "outputs": [],
   "source": [
    "abandoned.품종상세 = abandoned.품종상세.str.lstrip()"
   ]
  },
  {
   "cell_type": "code",
   "execution_count": 42,
   "id": "79798564",
   "metadata": {
    "scrolled": true
   },
   "outputs": [
    {
     "data": {
      "text/html": [
       "<div>\n",
       "<style scoped>\n",
       "    .dataframe tbody tr th:only-of-type {\n",
       "        vertical-align: middle;\n",
       "    }\n",
       "\n",
       "    .dataframe tbody tr th {\n",
       "        vertical-align: top;\n",
       "    }\n",
       "\n",
       "    .dataframe thead th {\n",
       "        text-align: right;\n",
       "    }\n",
       "</style>\n",
       "<table border=\"1\" class=\"dataframe\">\n",
       "  <thead>\n",
       "    <tr style=\"text-align: right;\">\n",
       "      <th></th>\n",
       "      <th>수컷</th>\n",
       "      <th>암컷</th>\n",
       "      <th>중성화</th>\n",
       "      <th>비중성화</th>\n",
       "    </tr>\n",
       "  </thead>\n",
       "  <tbody>\n",
       "    <tr>\n",
       "      <th>입양률</th>\n",
       "      <td>12.177072</td>\n",
       "      <td>11.881055</td>\n",
       "      <td>1.937567</td>\n",
       "      <td>16.899892</td>\n",
       "    </tr>\n",
       "  </tbody>\n",
       "</table>\n",
       "</div>"
      ],
      "text/plain": [
       "            수컷         암컷       중성화       비중성화\n",
       "입양률  12.177072  11.881055  1.937567  16.899892"
      ]
     },
     "execution_count": 42,
     "metadata": {},
     "output_type": "execute_result"
    }
   ],
   "source": [
    "rate = pd.DataFrame({'입양률': dic_rate})\n",
    "rate = rate.reindex(['수컷', '암컷', '중성화', '비중성화'])\n",
    "rate.T"
   ]
  },
  {
   "cell_type": "markdown",
   "id": "cbd39582",
   "metadata": {},
   "source": [
    "'#E6E6FA', '#FFF0F5', '#E0FFFF', "
   ]
  },
  {
   "cell_type": "code",
   "execution_count": 43,
   "id": "09b1d513",
   "metadata": {
    "scrolled": false
   },
   "outputs": [
    {
     "data": {
      "text/plain": [
       "<Axes: title={'center': '성별별 중성화별 입양률'}, ylabel='입양률 (%)'>"
      ]
     },
     "execution_count": 43,
     "metadata": {},
     "output_type": "execute_result"
    },
    {
     "data": {
      "image/png": "[encoded data removed]",
      "text/plain": [
       "<Figure size 640x480 with 1 Axes>"
      ]
     },
     "metadata": {},
     "output_type": "display_data"
    }
   ],
   "source": [
    "rate.plot(\n",
    "    kind='bar',\n",
    "    rot=0,\n",
    "    ylabel='입양률 (%)',\n",
    "    legend=False,\n",
    "    color=['#90EE90'],\n",
    "    title='성별별 중성화별 입양률'\n",
    ")"
   ]
  },
  {
   "cell_type": "markdown",
   "id": "89ad942d",
   "metadata": {},
   "source": [
    "## [가설6] 유기동물의 성별과 중성화여부는 입양에 영향을 미칠것이다\n",
    "유기동물의 성별과 중성화 여부에 따른 입양률 데이터를 살펴보면, 수컷의 입양률은 약 12.2%, 암컷의 입양률은 약 11.9%로 거의 비슷한 양상을 보였다.\n",
    "\n",
    "그러나 중성화 여부에 따른 입양률은 상이한 결과를 보였다. 중성화된 동물의 입양률은 약 1.9%로 낮았으며, 비중성화된 동물의 입양률은 약 16.9%로 월등히 높게 나타났다.\n"
   ]
  }
 ],
 "metadata": {
  "kernelspec": {
   "display_name": "ex_kernel",
   "language": "python",
   "name": "ex"
  },
  "language_info": {
   "codemirror_mode": {
    "name": "ipython",
    "version": 3
   },
   "file_extension": ".py",
   "mimetype": "text/x-python",
   "name": "python",
   "nbconvert_exporter": "python",
   "pygments_lexer": "ipython3",
   "version": "3.8.10"
  },
  "toc": {
   "base_numbering": 1,
   "nav_menu": {},
   "number_sections": true,
   "sideBar": true,
   "skip_h1_title": false,
   "title_cell": "Table of Contents",
   "title_sidebar": "Contents",
   "toc_cell": false,
   "toc_position": {},
   "toc_section_display": true,
   "toc_window_display": false
  }
 },
 "nbformat": 4,
 "nbformat_minor": 5
}
