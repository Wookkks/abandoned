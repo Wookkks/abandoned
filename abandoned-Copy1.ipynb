{
 "cells": [
  {
   "cell_type": "code",
   "execution_count": 4,
   "id": "190433db",
   "metadata": {},
   "outputs": [],
   "source": [
    "import pandas as pd\n",
    "import numpy as np\n",
    "import matplotlib.pyplot as plt\n",
    "import seaborn as sns\n",
    "import re"
   ]
  },
  {
   "cell_type": "code",
   "execution_count": 45,
   "id": "b5fc677c",
   "metadata": {},
   "outputs": [
    {
     "data": {
      "text/html": [
       "<div>\n",
       "<style scoped>\n",
       "    .dataframe tbody tr th:only-of-type {\n",
       "        vertical-align: middle;\n",
       "    }\n",
       "\n",
       "    .dataframe tbody tr th {\n",
       "        vertical-align: top;\n",
       "    }\n",
       "\n",
       "    .dataframe thead th {\n",
       "        text-align: right;\n",
       "    }\n",
       "</style>\n",
       "<table border=\"1\" class=\"dataframe\">\n",
       "  <thead>\n",
       "    <tr style=\"text-align: right;\">\n",
       "      <th></th>\n",
       "      <th>시군명</th>\n",
       "      <th>접수일자</th>\n",
       "      <th>발견장소</th>\n",
       "      <th>상태</th>\n",
       "      <th>공고고유번호</th>\n",
       "      <th>공고시작일자</th>\n",
       "      <th>공고종료일자</th>\n",
       "      <th>품종</th>\n",
       "      <th>색상</th>\n",
       "      <th>나이</th>\n",
       "      <th>...</th>\n",
       "      <th>보호소전화번호</th>\n",
       "      <th>보호소도로명주소</th>\n",
       "      <th>보호소지번주소</th>\n",
       "      <th>보호소우편번호</th>\n",
       "      <th>관할기관</th>\n",
       "      <th>특이사항</th>\n",
       "      <th>이미지경로</th>\n",
       "      <th>썸네일이미지경로</th>\n",
       "      <th>WGS84위도</th>\n",
       "      <th>WGS84경도</th>\n",
       "    </tr>\n",
       "  </thead>\n",
       "  <tbody>\n",
       "    <tr>\n",
       "      <th>0</th>\n",
       "      <td>오산시</td>\n",
       "      <td>20230514</td>\n",
       "      <td>성호대로141</td>\n",
       "      <td>보호중</td>\n",
       "      <td>경기-오산-2023-00116</td>\n",
       "      <td>20230514</td>\n",
       "      <td>20230524</td>\n",
       "      <td>[고양이] 한국 고양이</td>\n",
       "      <td>치즈색</td>\n",
       "      <td>2023(60일미만)(년생)</td>\n",
       "      <td>...</td>\n",
       "      <td>031-372-9325</td>\n",
       "      <td>경기도 오산시 성호대로 36</td>\n",
       "      <td>경기도 오산시 오산동 609-55번지</td>\n",
       "      <td>18130</td>\n",
       "      <td>경기도 오산시</td>\n",
       "      <td>NaN</td>\n",
       "      <td>http://www.animal.go.kr/files/shelter/2023/05/...</td>\n",
       "      <td>http://www.animal.go.kr/files/shelter/2023/05/...</td>\n",
       "      <td>37.149089</td>\n",
       "      <td>127.065203</td>\n",
       "    </tr>\n",
       "    <tr>\n",
       "      <th>1</th>\n",
       "      <td>오산시</td>\n",
       "      <td>20230514</td>\n",
       "      <td>성호대로141</td>\n",
       "      <td>보호중</td>\n",
       "      <td>경기-오산-2023-00115</td>\n",
       "      <td>20230514</td>\n",
       "      <td>20230524</td>\n",
       "      <td>[고양이] 한국 고양이</td>\n",
       "      <td>치지색</td>\n",
       "      <td>2023(60일미만)(년생)</td>\n",
       "      <td>...</td>\n",
       "      <td>031-372-9325</td>\n",
       "      <td>경기도 오산시 성호대로 36</td>\n",
       "      <td>경기도 오산시 오산동 609-55번지</td>\n",
       "      <td>18130</td>\n",
       "      <td>경기도 오산시</td>\n",
       "      <td>NaN</td>\n",
       "      <td>http://www.animal.go.kr/files/shelter/2023/05/...</td>\n",
       "      <td>http://www.animal.go.kr/files/shelter/2023/05/...</td>\n",
       "      <td>37.149089</td>\n",
       "      <td>127.065203</td>\n",
       "    </tr>\n",
       "  </tbody>\n",
       "</table>\n",
       "<p>2 rows × 25 columns</p>\n",
       "</div>"
      ],
      "text/plain": [
       "   시군명      접수일자     발견장소   상태            공고고유번호    공고시작일자    공고종료일자   \n",
       "0  오산시  20230514  성호대로141  보호중  경기-오산-2023-00116  20230514  20230524  \\\n",
       "1  오산시  20230514  성호대로141  보호중  경기-오산-2023-00115  20230514  20230524   \n",
       "\n",
       "             품종   색상               나이  ...       보호소전화번호         보호소도로명주소   \n",
       "0  [고양이] 한국 고양이  치즈색  2023(60일미만)(년생)  ...  031-372-9325  경기도 오산시 성호대로 36  \\\n",
       "1  [고양이] 한국 고양이  치지색  2023(60일미만)(년생)  ...  031-372-9325  경기도 오산시 성호대로 36   \n",
       "\n",
       "                보호소지번주소 보호소우편번호     관할기관 특이사항   \n",
       "0  경기도 오산시 오산동 609-55번지   18130  경기도 오산시  NaN  \\\n",
       "1  경기도 오산시 오산동 609-55번지   18130  경기도 오산시  NaN   \n",
       "\n",
       "                                               이미지경로   \n",
       "0  http://www.animal.go.kr/files/shelter/2023/05/...  \\\n",
       "1  http://www.animal.go.kr/files/shelter/2023/05/...   \n",
       "\n",
       "                                            썸네일이미지경로    WGS84위도     WGS84경도  \n",
       "0  http://www.animal.go.kr/files/shelter/2023/05/...  37.149089  127.065203  \n",
       "1  http://www.animal.go.kr/files/shelter/2023/05/...  37.149089  127.065203  \n",
       "\n",
       "[2 rows x 25 columns]"
      ]
     },
     "execution_count": 45,
     "metadata": {},
     "output_type": "execute_result"
    }
   ],
   "source": [
    "## csv 파일 불러오기\n",
    "abandoned = pd.read_csv('유기동물보호현황.csv', encoding='cp949')\n",
    "abandoned[:2]"
   ]
  },
  {
   "cell_type": "code",
   "execution_count": 11,
   "id": "7dfa0b6d",
   "metadata": {
    "scrolled": true
   },
   "outputs": [
    {
     "name": "stdout",
     "output_type": "stream",
     "text": [
      "<class 'pandas.core.frame.DataFrame'>\n",
      "RangeIndex: 9127 entries, 0 to 9126\n",
      "Data columns (total 8 columns):\n",
      " #   Column  Non-Null Count  Dtype         \n",
      "---  ------  --------------  -----         \n",
      " 0   시군명     9127 non-null   object        \n",
      " 1   접수일자    9127 non-null   datetime64[ns]\n",
      " 2   상태      9127 non-null   object        \n",
      " 3   품종      9127 non-null   object        \n",
      " 4   나이      9127 non-null   int64         \n",
      " 5   체중      9127 non-null   float64       \n",
      " 6   성별      9127 non-null   object        \n",
      " 7   중성화여부   9127 non-null   object        \n",
      "dtypes: datetime64[ns](1), float64(1), int64(1), object(5)\n",
      "memory usage: 570.6+ KB\n"
     ]
    }
   ],
   "source": [
    "## 파일 정보 확인\n",
    "abandoned.info()"
   ]
  },
  {
   "cell_type": "code",
   "execution_count": 47,
   "id": "75c980bf",
   "metadata": {},
   "outputs": [],
   "source": [
    "## 컬럼 정리\n",
    "abandoned.drop(columns=['발견장소', '공고고유번호', '공고시작일자', '공고종료일자'\n",
    "                       , '특징', '보호소명', '보호소전화번호', '보호소도로명주소', '보호소지번주소', '보호소우편번호'\n",
    "                       , '이미지경로', '썸네일이미지경로', 'WGS84위도', 'WGS84경도', '특이사항', '관할기관'], inplace=True)"
   ]
  },
  {
   "cell_type": "code",
   "execution_count": 42,
   "id": "6023b615",
   "metadata": {},
   "outputs": [],
   "source": [
    "## 잘못 표시된 값 수정 : U -> Q\n",
    "abandoned.loc[abandoned.중성화여부 == 'U', '중성화여부'] = 'Q'\n",
    "abandoned.체중 = abandoned.체중.str.replace('(Kg)', '').str.replace(',', '.').str.replace('..', '.').str.replace(\"\\'\", \"\")\n",
    "\n",
    "# abandoned[abandoned['체중'] == '.5.9']\n",
    "# abandoned[abandoned['체중'] == '6.3.']\n",
    "\n",
    "abandoned.loc[6735, '체중'] = '5.9'\n",
    "abandoned.loc[7146, '체중'] = '6.3'"
   ]
  },
  {
   "cell_type": "code",
   "execution_count": 85,
   "id": "7b9aad3d",
   "metadata": {},
   "outputs": [],
   "source": [
    "## 체중 컬럼 dtype 변경 : object -> float\n",
    "abandoned.체중 = abandoned.체중.apply(float)"
   ]
  },
  {
   "cell_type": "code",
   "execution_count": 13,
   "id": "5d892292",
   "metadata": {},
   "outputs": [],
   "source": [
    "## 접수일자 컬럼 dtype 변경 : int -> str -> datetime\n",
    "abandoned.접수일자 = abandoned.접수일자.astype('str')\n",
    "abandoned.접수일자 = pd.to_datetime(abandoned['접수일자'])\n",
    "\n",
    "## datetime format 변경\n",
    "abandoned.접수일자 = abandoned.접수일자.dt.strftime('%Y-%m')"
   ]
  },
  {
   "cell_type": "code",
   "execution_count": 71,
   "id": "6e25a547",
   "metadata": {
    "scrolled": false
   },
   "outputs": [],
   "source": [
    "## 작년기준 60일 미만 유기동물들의 나이는 2022년생으로 수정\n",
    "abandoned.loc[abandoned.나이 == '2022(60일미만)(년생)', '나이'] = '2022(년생)'\n",
    "\n",
    "## 나이컬럼 수정 및 dtype 변경 : n(년생) -> (2023 - n + 1)살, int\n",
    "## 60일 미만 -> 0살\n",
    "abandoned.loc[abandoned.나이 == '2023(년생)(60일미만)', '나이'] = 0\n",
    "abandoned.나이 = abandoned.나이.str.replace('(년생)', '')\n",
    "abandoned.나이 = abandoned.나이.astype('int16')\n",
    "abandoned.나이 = 2023 - abandoned.나이 + 1"
   ]
  },
  {
   "cell_type": "code",
   "execution_count": 97,
   "id": "b65b14a6",
   "metadata": {},
   "outputs": [],
   "source": [
    "## 품종 컬럼값 공백 제거\n",
    "abandoned.품종 = abandoned.품종.str.replace(' ', '')"
   ]
  },
  {
   "cell_type": "code",
   "execution_count": 63,
   "id": "306bffe2",
   "metadata": {},
   "outputs": [],
   "source": [
    "## 컬럼 추가\n",
    "abandoned['품종상세'] = abandoned.품종\n",
    "\n",
    "abandoned.loc[abandoned.품종상세.str.contains(r'\\[고양이\\]'), '품종상세'] = '고양이'\n",
    "abandoned.loc[abandoned.품종상세.str.contains(r'\\[개\\]'), '품종상세'] = '개'\n",
    "abandoned.loc[abandoned.품종상세.str.contains(r'\\[기타축종\\]'), '품종상세'] = '기타축종'"
   ]
  },
  {
   "cell_type": "code",
   "execution_count": 70,
   "id": "7ac70a86",
   "metadata": {},
   "outputs": [],
   "source": [
    "## 컬럼순서 조정\n",
    "abandoned = abandoned[['시군명', '접수일자', '상태', '품종상세', '품종', '나이', '체중', '성별', '중성화여부']]"
   ]
  },
  {
   "cell_type": "code",
   "execution_count": 71,
   "id": "71cf7913",
   "metadata": {},
   "outputs": [],
   "source": [
    "abandoned.rename(columns={'품종': '품종상세', '품종상세': '품종'}, inplace=True)"
   ]
  },
  {
   "cell_type": "code",
   "execution_count": 16,
   "id": "9ef61627",
   "metadata": {},
   "outputs": [],
   "source": [
    "## csv 파일 저장\n",
    "abandoned.to_csv('abandoned.csv', index=False, encoding='UTF-8')"
   ]
  },
  {
   "cell_type": "code",
   "execution_count": 46,
   "id": "5469ca81",
   "metadata": {},
   "outputs": [
    {
     "data": {
      "text/html": [
       "<div>\n",
       "<style scoped>\n",
       "    .dataframe tbody tr th:only-of-type {\n",
       "        vertical-align: middle;\n",
       "    }\n",
       "\n",
       "    .dataframe tbody tr th {\n",
       "        vertical-align: top;\n",
       "    }\n",
       "\n",
       "    .dataframe thead th {\n",
       "        text-align: right;\n",
       "    }\n",
       "</style>\n",
       "<table border=\"1\" class=\"dataframe\">\n",
       "  <thead>\n",
       "    <tr style=\"text-align: right;\">\n",
       "      <th></th>\n",
       "      <th>시군명</th>\n",
       "      <th>접수일자</th>\n",
       "      <th>상태</th>\n",
       "      <th>품종</th>\n",
       "      <th>나이</th>\n",
       "      <th>체중</th>\n",
       "      <th>성별</th>\n",
       "      <th>중성화여부</th>\n",
       "    </tr>\n",
       "  </thead>\n",
       "  <tbody>\n",
       "    <tr>\n",
       "      <th>0</th>\n",
       "      <td>오산시</td>\n",
       "      <td>2023-05</td>\n",
       "      <td>보호중</td>\n",
       "      <td>[고양이]한국고양이</td>\n",
       "      <td>0</td>\n",
       "      <td>0.11</td>\n",
       "      <td>Q</td>\n",
       "      <td>N</td>\n",
       "    </tr>\n",
       "    <tr>\n",
       "      <th>1</th>\n",
       "      <td>오산시</td>\n",
       "      <td>2023-05</td>\n",
       "      <td>보호중</td>\n",
       "      <td>[고양이]한국고양이</td>\n",
       "      <td>0</td>\n",
       "      <td>0.10</td>\n",
       "      <td>Q</td>\n",
       "      <td>N</td>\n",
       "    </tr>\n",
       "  </tbody>\n",
       "</table>\n",
       "</div>"
      ],
      "text/plain": [
       "   시군명     접수일자   상태          품종  나이    체중 성별 중성화여부\n",
       "0  오산시  2023-05  보호중  [고양이]한국고양이   0  0.11  Q     N\n",
       "1  오산시  2023-05  보호중  [고양이]한국고양이   0  0.10  Q     N"
      ]
     },
     "execution_count": 46,
     "metadata": {},
     "output_type": "execute_result"
    }
   ],
   "source": [
    "## 품종 분류 : 고양이\n",
    "abandoned_cat = abandoned[abandoned.품종.str.contains(r'\\[고양이\\]')]"
   ]
  },
  {
   "cell_type": "code",
   "execution_count": 47,
   "id": "acce5786",
   "metadata": {
    "scrolled": true
   },
   "outputs": [
    {
     "data": {
      "text/html": [
       "<div>\n",
       "<style scoped>\n",
       "    .dataframe tbody tr th:only-of-type {\n",
       "        vertical-align: middle;\n",
       "    }\n",
       "\n",
       "    .dataframe tbody tr th {\n",
       "        vertical-align: top;\n",
       "    }\n",
       "\n",
       "    .dataframe thead th {\n",
       "        text-align: right;\n",
       "    }\n",
       "</style>\n",
       "<table border=\"1\" class=\"dataframe\">\n",
       "  <thead>\n",
       "    <tr style=\"text-align: right;\">\n",
       "      <th></th>\n",
       "      <th>시군명</th>\n",
       "      <th>접수일자</th>\n",
       "      <th>상태</th>\n",
       "      <th>품종</th>\n",
       "      <th>나이</th>\n",
       "      <th>체중</th>\n",
       "      <th>성별</th>\n",
       "      <th>중성화여부</th>\n",
       "    </tr>\n",
       "  </thead>\n",
       "  <tbody>\n",
       "    <tr>\n",
       "      <th>2</th>\n",
       "      <td>남양주시</td>\n",
       "      <td>2023-05</td>\n",
       "      <td>보호중</td>\n",
       "      <td>[개]셰퍼드</td>\n",
       "      <td>3</td>\n",
       "      <td>24.0</td>\n",
       "      <td>F</td>\n",
       "      <td>N</td>\n",
       "    </tr>\n",
       "    <tr>\n",
       "      <th>3</th>\n",
       "      <td>남양주시</td>\n",
       "      <td>2023-05</td>\n",
       "      <td>보호중</td>\n",
       "      <td>[개]셰퍼드</td>\n",
       "      <td>3</td>\n",
       "      <td>27.0</td>\n",
       "      <td>M</td>\n",
       "      <td>N</td>\n",
       "    </tr>\n",
       "  </tbody>\n",
       "</table>\n",
       "</div>"
      ],
      "text/plain": [
       "    시군명     접수일자   상태      품종  나이    체중 성별 중성화여부\n",
       "2  남양주시  2023-05  보호중  [개]셰퍼드   3  24.0  F     N\n",
       "3  남양주시  2023-05  보호중  [개]셰퍼드   3  27.0  M     N"
      ]
     },
     "execution_count": 47,
     "metadata": {},
     "output_type": "execute_result"
    }
   ],
   "source": [
    "## 품종 분류 : 개\n",
    "abandoned_dog = abandoned[abandoned.품종.str.contains(r'\\[개\\]')]"
   ]
  },
  {
   "cell_type": "code",
   "execution_count": 48,
   "id": "640db9d9",
   "metadata": {
    "scrolled": true
   },
   "outputs": [
    {
     "data": {
      "text/html": [
       "<div>\n",
       "<style scoped>\n",
       "    .dataframe tbody tr th:only-of-type {\n",
       "        vertical-align: middle;\n",
       "    }\n",
       "\n",
       "    .dataframe tbody tr th {\n",
       "        vertical-align: top;\n",
       "    }\n",
       "\n",
       "    .dataframe thead th {\n",
       "        text-align: right;\n",
       "    }\n",
       "</style>\n",
       "<table border=\"1\" class=\"dataframe\">\n",
       "  <thead>\n",
       "    <tr style=\"text-align: right;\">\n",
       "      <th></th>\n",
       "      <th>시군명</th>\n",
       "      <th>접수일자</th>\n",
       "      <th>상태</th>\n",
       "      <th>품종</th>\n",
       "      <th>나이</th>\n",
       "      <th>체중</th>\n",
       "      <th>성별</th>\n",
       "      <th>중성화여부</th>\n",
       "    </tr>\n",
       "  </thead>\n",
       "  <tbody>\n",
       "    <tr>\n",
       "      <th>81</th>\n",
       "      <td>성남시</td>\n",
       "      <td>2023-05</td>\n",
       "      <td>종료(자연사)</td>\n",
       "      <td>[기타축종]햄스터</td>\n",
       "      <td>2</td>\n",
       "      <td>0.01</td>\n",
       "      <td>Q</td>\n",
       "      <td>N</td>\n",
       "    </tr>\n",
       "    <tr>\n",
       "      <th>220</th>\n",
       "      <td>고양시</td>\n",
       "      <td>2023-05</td>\n",
       "      <td>보호중</td>\n",
       "      <td>[기타축종]앵무새</td>\n",
       "      <td>2</td>\n",
       "      <td>0.03</td>\n",
       "      <td>Q</td>\n",
       "      <td>Q</td>\n",
       "    </tr>\n",
       "  </tbody>\n",
       "</table>\n",
       "</div>"
      ],
      "text/plain": [
       "     시군명     접수일자       상태         품종  나이    체중 성별 중성화여부\n",
       "81   성남시  2023-05  종료(자연사)  [기타축종]햄스터   2  0.01  Q     N\n",
       "220  고양시  2023-05      보호중  [기타축종]앵무새   2  0.03  Q     Q"
      ]
     },
     "execution_count": 48,
     "metadata": {},
     "output_type": "execute_result"
    }
   ],
   "source": [
    "## 품종 분류 : 기타축종\n",
    "abandoned_other = abandoned[abandoned.품종.str.contains(r'\\[기타축종\\]')]"
   ]
  },
  {
   "cell_type": "code",
   "execution_count": 102,
   "id": "52d780b8",
   "metadata": {},
   "outputs": [],
   "source": [
    "abandoned.to_csv('abandoned.csv', index=False, encoding='utf-8')"
   ]
  },
  {
   "cell_type": "markdown",
   "id": "26d98ba9",
   "metadata": {},
   "source": [
    "가설 3개이상\n",
    "1. 유기동물의 수는 꾸준히 증가했을 것이다\n",
    "1. 유기동물의 종류는 개가 가장 많을 것이다\n",
    "1. 개의 품종은 믹스견이 가장 많을 것이다\n",
    "1. 나이가 어린(1살 이하) 동물들의 수가 많을 것이다"
   ]
  },
  {
   "cell_type": "markdown",
   "id": "a34bbe60",
   "metadata": {},
   "source": [
    "자료기간 : 2022-11-15 ~ 2023-05-14"
   ]
  },
  {
   "cell_type": "markdown",
   "id": "3baacb17",
   "metadata": {},
   "source": [
    " 「동물보호법」 제40조에 따른 공고가 있는 날부터 10일이 지나도 소유자등을 알 수 없는 경우에는\n",
    "「유실물법」 제12조 및 「민법」 제253조에도 불구하고 해당 시ㆍ도지사 또는 시장ㆍ군수ㆍ구청장이 그 동물의 소유권을 취득하게 됩니다."
   ]
  },
  {
   "cell_type": "markdown",
   "id": "65a82996",
   "metadata": {},
   "source": [
    "안락사에 관한 공식적인 가이드라인은 없는 상태. 개별 수의사에게 맡겨진 셈임"
   ]
  },
  {
   "cell_type": "code",
   "execution_count": 3,
   "id": "b6759ab7",
   "metadata": {},
   "outputs": [
    {
     "ename": "NameError",
     "evalue": "name 'plt' is not defined",
     "output_type": "error",
     "traceback": [
      "\u001b[1;31m---------------------------------------------------------------------------\u001b[0m",
      "\u001b[1;31mNameError\u001b[0m                                 Traceback (most recent call last)",
      "Cell \u001b[1;32mIn[3], line 2\u001b[0m\n\u001b[0;32m      1\u001b[0m \u001b[38;5;66;03m## 한글 설정\u001b[39;00m\n\u001b[1;32m----> 2\u001b[0m \u001b[43mplt\u001b[49m\u001b[38;5;241m.\u001b[39mrc(\u001b[38;5;124m'\u001b[39m\u001b[38;5;124mfont\u001b[39m\u001b[38;5;124m'\u001b[39m, family\u001b[38;5;241m=\u001b[39m\u001b[38;5;124m'\u001b[39m\u001b[38;5;124mD2coding\u001b[39m\u001b[38;5;124m'\u001b[39m)\n",
      "\u001b[1;31mNameError\u001b[0m: name 'plt' is not defined"
     ]
    }
   ],
   "source": [
    "## 한글 설정\n",
    "plt.rc('font', family='D2coding')"
   ]
  },
  {
   "cell_type": "code",
   "execution_count": 224,
   "id": "1cfa837f",
   "metadata": {},
   "outputs": [
    {
     "data": {
      "image/png": "[encoded data removed]",
      "text/plain": [
       "<Figure size 1200x400 with 1 Axes>"
      ]
     },
     "metadata": {},
     "output_type": "display_data"
    }
   ],
   "source": [
    "## [가설 1] 유기동물의 수는 꾸준히 증가했을 것이다\n",
    "## 5월 14일까지의 데이터라 5월 데이터가 부족\n",
    "\n",
    "abandoned.groupby('접수일자').size().plot(\n",
    "    kind='line',\n",
    "    title='월별 유기동물 개체 수',\n",
    "    rot=0,\n",
    "    figsize=(12, 4),\n",
    "    label='개체 수',\n",
    ")\n",
    "plt.grid(axis='y', alpha=0.5)\n",
    "plt.ylabel('개체 수 (마리)')\n",
    "plt.legend()\n",
    "plt.show()"
   ]
  },
  {
   "cell_type": "code",
   "execution_count": 213,
   "id": "951dcfb7",
   "metadata": {},
   "outputs": [
    {
     "data": {
      "text/plain": [
       "<Axes: title={'center': '유기동물 품종 비율'}>"
      ]
     },
     "execution_count": 213,
     "metadata": {},
     "output_type": "execute_result"
    },
    {
     "data": {
      "image/png": "[encoded data removed]",
      "text/plain": [
       "<Figure size 500x500 with 1 Axes>"
      ]
     },
     "metadata": {},
     "output_type": "display_data"
    }
   ],
   "source": [
    "## [가설 2] 유기동물의 종류는 개가 가장 많을 것이다  -> 개, 고양이, 기타축종\n",
    "abandoned.groupby('품종').size().sort_values(ascending=False).plot(\n",
    "    kind='pie',\n",
    "    title='유기동물 품종 비율',\n",
    "    figsize=(5, 5),\n",
    "    autopct='%.1f%%',\n",
    "    colors=['#FFA07A', '#FA8072', '#E9967A'],\n",
    "    #colormap='BuPu',\n",
    ")"
   ]
  },
  {
   "cell_type": "code",
   "execution_count": 223,
   "id": "95dd654e",
   "metadata": {},
   "outputs": [
    {
     "data": {
      "text/plain": [
       "Text(0, 0.5, '개체 수 (마리)')"
      ]
     },
     "execution_count": 223,
     "metadata": {},
     "output_type": "execute_result"
    },
    {
     "data": {
      "image/png": "[encoded data removed]",
      "text/plain": [
       "<Figure size 500x500 with 1 Axes>"
      ]
     },
     "metadata": {},
     "output_type": "display_data"
    }
   ],
   "source": [
    "abandoned.groupby('품종').size().sort_values(ascending=False).plot(\n",
    "    kind='bar',\n",
    "    title='유기동물 종류 별 개체 수',\n",
    "    rot=0,\n",
    "    figsize=(5, 5),\n",
    "    width=0.5,\n",
    "    color='#66CDAA',\n",
    ")\n",
    "plt.ylabel('개체 수 (마리)')"
   ]
  },
  {
   "cell_type": "code",
   "execution_count": 158,
   "id": "901c75ad",
   "metadata": {},
   "outputs": [
    {
     "data": {
      "text/plain": [
       "<Axes: title={'center': '유기견 상위 10개 품종'}>"
      ]
     },
     "execution_count": 158,
     "metadata": {},
     "output_type": "execute_result"
    },
    {
     "data": {
      "image/png": "[encoded data removed]",
      "text/plain": [
       "<Figure size 600x600 with 1 Axes>"
      ]
     },
     "metadata": {},
     "output_type": "display_data"
    }
   ],
   "source": [
    "## [가설 3] 개의 품종은 믹스견이 가장 많을 것이다\n",
    "## 방법 생각좀 해보자\n",
    "abandoned[abandoned.품종 == '개'].groupby('품종상세').size().sort_values(ascending=False)[:10].plot(\n",
    "    kind='pie',\n",
    "    title='유기견 상위 10개 품종',\n",
    "    autopct='%.1f%%',\n",
    "    figsize=(6, 6),\n",
    "    fontsize=11,\n",
    "    colormap='RdPu'\n",
    ")"
   ]
  },
  {
   "cell_type": "code",
   "execution_count": 2,
   "id": "feb45be6",
   "metadata": {},
   "outputs": [
    {
     "ename": "NameError",
     "evalue": "name 'abandoned' is not defined",
     "output_type": "error",
     "traceback": [
      "\u001b[1;31m---------------------------------------------------------------------------\u001b[0m",
      "\u001b[1;31mNameError\u001b[0m                                 Traceback (most recent call last)",
      "Cell \u001b[1;32mIn[2], line 2\u001b[0m\n\u001b[0;32m      1\u001b[0m \u001b[38;5;66;03m## [가설 4] 나이가 어린(1살 이하) 동물들의 수가 많을 것이다\u001b[39;00m\n\u001b[1;32m----> 2\u001b[0m \u001b[43mabandoned\u001b[49m\u001b[38;5;241m.\u001b[39mgroupby(\u001b[38;5;124m'\u001b[39m\u001b[38;5;124m나이\u001b[39m\u001b[38;5;124m'\u001b[39m)\u001b[38;5;241m.\u001b[39msize()\u001b[38;5;241m.\u001b[39mplot(\n\u001b[0;32m      3\u001b[0m     figsize\u001b[38;5;241m=\u001b[39m(\u001b[38;5;241m14\u001b[39m ,\u001b[38;5;241m5\u001b[39m),\n\u001b[0;32m      4\u001b[0m     xticks\u001b[38;5;241m=\u001b[39m(\u001b[38;5;28mrange\u001b[39m(\u001b[38;5;241m0\u001b[39m, \u001b[38;5;28mlen\u001b[39m(abandoned\u001b[38;5;241m.\u001b[39mgroupby(\u001b[38;5;124m'\u001b[39m\u001b[38;5;124m나이\u001b[39m\u001b[38;5;124m'\u001b[39m)\u001b[38;5;241m.\u001b[39msize()))),\n\u001b[0;32m      5\u001b[0m     label\u001b[38;5;241m=\u001b[39m\u001b[38;5;124m'\u001b[39m\u001b[38;5;124m개체수\u001b[39m\u001b[38;5;124m'\u001b[39m,\n\u001b[0;32m      6\u001b[0m     title\u001b[38;5;241m=\u001b[39m\u001b[38;5;124m'\u001b[39m\u001b[38;5;124m유기동물 나이 별 개체수\u001b[39m\u001b[38;5;124m'\u001b[39m,\n\u001b[0;32m      7\u001b[0m     \n\u001b[0;32m      8\u001b[0m )\n\u001b[0;32m      9\u001b[0m plt\u001b[38;5;241m.\u001b[39mylabel(\u001b[38;5;124m'\u001b[39m\u001b[38;5;124m개체 수 (마리)\u001b[39m\u001b[38;5;124m'\u001b[39m)\n\u001b[0;32m     10\u001b[0m plt\u001b[38;5;241m.\u001b[39mgrid(alpha\u001b[38;5;241m=\u001b[39m\u001b[38;5;241m0.5\u001b[39m)\n",
      "\u001b[1;31mNameError\u001b[0m: name 'abandoned' is not defined"
     ]
    }
   ],
   "source": [
    "## [가설 4] 나이가 어린(1살 이하) 동물들의 수가 많을 것이다\n",
    "abandoned.groupby('나이').size().plot(\n",
    "    figsize=(14 ,5),\n",
    "    xticks=(range(0, len(abandoned.groupby('나이').size()))),\n",
    "    label='개체수',\n",
    "    title='유기동물 나이 별 개체수',\n",
    "    \n",
    ")\n",
    "plt.ylabel('개체 수 (마리)')\n",
    "plt.grid(alpha=0.5)\n",
    "plt.legend()\n",
    "plt.show()"
   ]
  }
 ],
 "metadata": {
  "kernelspec": {
   "display_name": "ex_kernel",
   "language": "python",
   "name": "ex"
  },
  "language_info": {
   "codemirror_mode": {
    "name": "ipython",
    "version": 3
   },
   "file_extension": ".py",
   "mimetype": "text/x-python",
   "name": "python",
   "nbconvert_exporter": "python",
   "pygments_lexer": "ipython3",
   "version": "3.8.10"
  },
  "toc": {
   "base_numbering": 1,
   "nav_menu": {},
   "number_sections": true,
   "sideBar": true,
   "skip_h1_title": false,
   "title_cell": "Table of Contents",
   "title_sidebar": "Contents",
   "toc_cell": false,
   "toc_position": {},
   "toc_section_display": true,
   "toc_window_display": false
  }
 },
 "nbformat": 4,
 "nbformat_minor": 5
}
